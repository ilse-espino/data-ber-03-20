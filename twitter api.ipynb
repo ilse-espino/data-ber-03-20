{
 "cells": [
  {
   "cell_type": "code",
   "execution_count": 14,
   "metadata": {},
   "outputs": [],
   "source": [
    "import requests\n",
    "from pandas.io.json import json_normalize"
   ]
  },
  {
   "cell_type": "code",
   "execution_count": 2,
   "metadata": {},
   "outputs": [],
   "source": [
    "url = \"https://api.datos.gob.mx/v1/matricula-por-institucion-y-entidad-federativa\"\n",
    "\n",
    "resp = requests.get(url)"
   ]
  },
  {
   "cell_type": "code",
   "execution_count": 3,
   "metadata": {},
   "outputs": [
    {
     "data": {
      "text/plain": [
       "{'pagination': {'pageSize': 100, 'page': 1, 'total': 0}, 'results': []}"
      ]
     },
     "execution_count": 3,
     "metadata": {},
     "output_type": "execute_result"
    }
   ],
   "source": [
    "resp.json()"
   ]
  },
  {
   "cell_type": "code",
   "execution_count": 4,
   "metadata": {},
   "outputs": [
    {
     "name": "stdout",
     "output_type": "stream",
     "text": [
      "yo: ok de veras nos tenemos que dormir ya, estoy cansado de verdad\n",
      "\n",
      "mi cerebro:\n",
      "\n",
      " https://t.co/8U6U6ov0eG\n",
      "Into voice acting? Or even just curious enough to try?\n",
      "\n",
      "I got you.\n",
      "\n",
      "This piece is simple. Only one line. Anyone can… https://t.co/xU38W6fIoT\n",
      "RT @blairftcamz: Te querias dormir antes de las dos esperancita pero aun no tendrás sueño maldita criada\n",
      "Conoce algunos de los templos más impresionantes de la India.  https://t.co/28NaHvlC0P\n",
      "pero me avisan ok pa saber\n",
      "metanme a sus closefriends yo si voto y convivo https://t.co/Zn2uN25gES\n",
      "RT @cely_ramos: acabo de presenciar un momento histórico,,,,, unos cf que sí sirven https://t.co/3kGujzgIr0\n",
      "she was onto something ... https://t.co/EqnjPpLJM9\n",
      "RT @ceciliasibrian2: Ya ester exposito, ya entendimos que sos perfecta ok? Bai\n",
      "OLV https://t.co/ny9yYvseT5\n",
      "RT @alicecardoza: No está mal practicar una religión. Está mal que por tu fanatismo decidas romper la contingencia por algo que pudiste hab…\n",
      "RT @PendejoVirus_19: Ni siquiera sabe escribir, ahora imagina exigirle que sea consciente y no salga. Sigan usando el #Pendejovirus para ma…\n",
      "feliz cumpleaños a una de las amistades mas bonitas que me ha dejado el mundo del internet, @lupitodrn feliz cumple… https://t.co/PdKkkLSZ1A\n",
      "Solo falta un CM para que administre esa madre y empiece el contenido en esa cuenta, vayan dandole follow y rt\n",
      "Bueno esta cuenta debe volver al contenido de siempre. Para seguir creando consciencia y que la gente se tome en se… https://t.co/ibrxrHVOzn\n",
      "Estos son 10 beneficios de ejercitarse https://t.co/msSwGbSUg6\n",
      "#VIDEO ¡El festival de nieve de Harbin! https://t.co/pJrS7ap0Z6\n"
     ]
    }
   ],
   "source": [
    "import tweepy\n",
    "\n",
    "API_KEY = \"etN11gsogkOy6o0ATXbNfoQmk\"\n",
    "API_SECRET = \"eBY47rL2oRYq1hWAFPPrTsoDU7o9kQ0ogQ2I2u18vCsi3fANA5\"\n",
    "ACCESS_TOKEN = \"192008732-8EVmWHQirThrWdmT7xHaySFgYZ2AYQnWWOHEnfGh\"\n",
    "ACCES_TOKEN_SECRET = \"xykphQcdgDrv6V0O6X3I6iWz6RCkfiBP8j0oysULUANY5\"\n",
    "\n",
    "auth = tweepy.OAuthHandler(API_KEY, API_SECRET)\n",
    "auth.set_access_token(ACCESS_TOKEN, ACCES_TOKEN_SECRET)\n",
    "\n",
    "api = tweepy.API(auth)\n",
    "\n",
    "public_tweets = api.home_timeline()\n",
    "for tweet in public_tweets:\n",
    "    print(tweet.text)\n",
    "    \n"
   ]
  },
  {
   "cell_type": "code",
   "execution_count": 11,
   "metadata": {},
   "outputs": [],
   "source": [
    "import pandas as pd\n",
    "trending = pd.DataFrame(api.trends_available())\n"
   ]
  },
  {
   "cell_type": "code",
   "execution_count": 12,
   "metadata": {},
   "outputs": [
    {
     "data": {
      "text/html": [
       "<div>\n",
       "<style scoped>\n",
       "    .dataframe tbody tr th:only-of-type {\n",
       "        vertical-align: middle;\n",
       "    }\n",
       "\n",
       "    .dataframe tbody tr th {\n",
       "        vertical-align: top;\n",
       "    }\n",
       "\n",
       "    .dataframe thead th {\n",
       "        text-align: right;\n",
       "    }\n",
       "</style>\n",
       "<table border=\"1\" class=\"dataframe\">\n",
       "  <thead>\n",
       "    <tr style=\"text-align: right;\">\n",
       "      <th></th>\n",
       "      <th>name</th>\n",
       "      <th>placeType</th>\n",
       "      <th>url</th>\n",
       "      <th>parentid</th>\n",
       "      <th>country</th>\n",
       "      <th>woeid</th>\n",
       "      <th>countryCode</th>\n",
       "    </tr>\n",
       "  </thead>\n",
       "  <tbody>\n",
       "    <tr>\n",
       "      <th>0</th>\n",
       "      <td>Worldwide</td>\n",
       "      <td>{'code': 19, 'name': 'Supername'}</td>\n",
       "      <td>http://where.yahooapis.com/v1/place/1</td>\n",
       "      <td>0</td>\n",
       "      <td></td>\n",
       "      <td>1</td>\n",
       "      <td>None</td>\n",
       "    </tr>\n",
       "    <tr>\n",
       "      <th>1</th>\n",
       "      <td>Winnipeg</td>\n",
       "      <td>{'code': 7, 'name': 'Town'}</td>\n",
       "      <td>http://where.yahooapis.com/v1/place/2972</td>\n",
       "      <td>23424775</td>\n",
       "      <td>Canada</td>\n",
       "      <td>2972</td>\n",
       "      <td>CA</td>\n",
       "    </tr>\n",
       "    <tr>\n",
       "      <th>2</th>\n",
       "      <td>Ottawa</td>\n",
       "      <td>{'code': 7, 'name': 'Town'}</td>\n",
       "      <td>http://where.yahooapis.com/v1/place/3369</td>\n",
       "      <td>23424775</td>\n",
       "      <td>Canada</td>\n",
       "      <td>3369</td>\n",
       "      <td>CA</td>\n",
       "    </tr>\n",
       "    <tr>\n",
       "      <th>3</th>\n",
       "      <td>Quebec</td>\n",
       "      <td>{'code': 7, 'name': 'Town'}</td>\n",
       "      <td>http://where.yahooapis.com/v1/place/3444</td>\n",
       "      <td>23424775</td>\n",
       "      <td>Canada</td>\n",
       "      <td>3444</td>\n",
       "      <td>CA</td>\n",
       "    </tr>\n",
       "    <tr>\n",
       "      <th>4</th>\n",
       "      <td>Montreal</td>\n",
       "      <td>{'code': 7, 'name': 'Town'}</td>\n",
       "      <td>http://where.yahooapis.com/v1/place/3534</td>\n",
       "      <td>23424775</td>\n",
       "      <td>Canada</td>\n",
       "      <td>3534</td>\n",
       "      <td>CA</td>\n",
       "    </tr>\n",
       "  </tbody>\n",
       "</table>\n",
       "</div>"
      ],
      "text/plain": [
       "        name                          placeType  \\\n",
       "0  Worldwide  {'code': 19, 'name': 'Supername'}   \n",
       "1   Winnipeg        {'code': 7, 'name': 'Town'}   \n",
       "2     Ottawa        {'code': 7, 'name': 'Town'}   \n",
       "3     Quebec        {'code': 7, 'name': 'Town'}   \n",
       "4   Montreal        {'code': 7, 'name': 'Town'}   \n",
       "\n",
       "                                        url  parentid country  woeid  \\\n",
       "0     http://where.yahooapis.com/v1/place/1         0              1   \n",
       "1  http://where.yahooapis.com/v1/place/2972  23424775  Canada   2972   \n",
       "2  http://where.yahooapis.com/v1/place/3369  23424775  Canada   3369   \n",
       "3  http://where.yahooapis.com/v1/place/3444  23424775  Canada   3444   \n",
       "4  http://where.yahooapis.com/v1/place/3534  23424775  Canada   3534   \n",
       "\n",
       "  countryCode  \n",
       "0        None  \n",
       "1          CA  \n",
       "2          CA  \n",
       "3          CA  \n",
       "4          CA  "
      ]
     },
     "execution_count": 12,
     "metadata": {},
     "output_type": "execute_result"
    }
   ],
   "source": [
    "trending.head()"
   ]
  },
  {
   "cell_type": "code",
   "execution_count": 16,
   "metadata": {},
   "outputs": [
    {
     "name": "stderr",
     "output_type": "stream",
     "text": [
      "C:\\Users\\Admin\\.conda\\envs\\backpack_banana\\lib\\site-packages\\ipykernel_launcher.py:1: FutureWarning: pandas.io.json.json_normalize is deprecated, use pandas.json_normalize instead\n",
      "  \"\"\"Entry point for launching an IPython kernel.\n"
     ]
    },
    {
     "data": {
      "text/html": [
       "<div>\n",
       "<style scoped>\n",
       "    .dataframe tbody tr th:only-of-type {\n",
       "        vertical-align: middle;\n",
       "    }\n",
       "\n",
       "    .dataframe tbody tr th {\n",
       "        vertical-align: top;\n",
       "    }\n",
       "\n",
       "    .dataframe thead th {\n",
       "        text-align: right;\n",
       "    }\n",
       "</style>\n",
       "<table border=\"1\" class=\"dataframe\">\n",
       "  <thead>\n",
       "    <tr style=\"text-align: right;\">\n",
       "      <th></th>\n",
       "      <th>code</th>\n",
       "      <th>name</th>\n",
       "    </tr>\n",
       "  </thead>\n",
       "  <tbody>\n",
       "    <tr>\n",
       "      <th>0</th>\n",
       "      <td>19</td>\n",
       "      <td>Supername</td>\n",
       "    </tr>\n",
       "    <tr>\n",
       "      <th>1</th>\n",
       "      <td>7</td>\n",
       "      <td>Town</td>\n",
       "    </tr>\n",
       "    <tr>\n",
       "      <th>2</th>\n",
       "      <td>7</td>\n",
       "      <td>Town</td>\n",
       "    </tr>\n",
       "    <tr>\n",
       "      <th>3</th>\n",
       "      <td>7</td>\n",
       "      <td>Town</td>\n",
       "    </tr>\n",
       "    <tr>\n",
       "      <th>4</th>\n",
       "      <td>7</td>\n",
       "      <td>Town</td>\n",
       "    </tr>\n",
       "    <tr>\n",
       "      <th>...</th>\n",
       "      <td>...</td>\n",
       "      <td>...</td>\n",
       "    </tr>\n",
       "    <tr>\n",
       "      <th>462</th>\n",
       "      <td>12</td>\n",
       "      <td>Country</td>\n",
       "    </tr>\n",
       "    <tr>\n",
       "      <th>463</th>\n",
       "      <td>7</td>\n",
       "      <td>Town</td>\n",
       "    </tr>\n",
       "    <tr>\n",
       "      <th>464</th>\n",
       "      <td>7</td>\n",
       "      <td>Town</td>\n",
       "    </tr>\n",
       "    <tr>\n",
       "      <th>465</th>\n",
       "      <td>9</td>\n",
       "      <td>Unknown</td>\n",
       "    </tr>\n",
       "    <tr>\n",
       "      <th>466</th>\n",
       "      <td>7</td>\n",
       "      <td>Town</td>\n",
       "    </tr>\n",
       "  </tbody>\n",
       "</table>\n",
       "<p>467 rows × 2 columns</p>\n",
       "</div>"
      ],
      "text/plain": [
       "     code       name\n",
       "0      19  Supername\n",
       "1       7       Town\n",
       "2       7       Town\n",
       "3       7       Town\n",
       "4       7       Town\n",
       "..    ...        ...\n",
       "462    12    Country\n",
       "463     7       Town\n",
       "464     7       Town\n",
       "465     9    Unknown\n",
       "466     7       Town\n",
       "\n",
       "[467 rows x 2 columns]"
      ]
     },
     "execution_count": 16,
     "metadata": {},
     "output_type": "execute_result"
    }
   ],
   "source": [
    "json_normalize(trending[\"placeType\"])"
   ]
  },
  {
   "cell_type": "code",
   "execution_count": 7,
   "metadata": {},
   "outputs": [
    {
     "data": {
      "text/plain": [
       "US    64\n",
       "GB    27\n",
       "MX    24\n",
       "JP    22\n",
       "IN    22\n",
       "      ..\n",
       "KW     1\n",
       "LB     1\n",
       "BH     1\n",
       "QA     1\n",
       "BE     1\n",
       "Name: countryCode, Length: 62, dtype: int64"
      ]
     },
     "execution_count": 7,
     "metadata": {},
     "output_type": "execute_result"
    }
   ],
   "source": [
    "trending[\"countryCode\"].value_counts()"
   ]
  },
  {
   "cell_type": "code",
   "execution_count": 8,
   "metadata": {},
   "outputs": [
    {
     "data": {
      "text/plain": [
       "[User(_api=<tweepy.api.API object at 0x0000026A601ACB08>, _json={'id': 192008732, 'id_str': '192008732', 'name': 'Ilse Espino Barros', 'screen_name': 'ilseespino', 'location': 'Monterrey', 'description': 'Wanderlust.', 'url': 'https://t.co/ihVcjTG4X1', 'entities': {'url': {'urls': [{'url': 'https://t.co/ihVcjTG4X1', 'expanded_url': 'http://stop-foraminute.tumblr.com', 'display_url': 'stop-foraminute.tumblr.com', 'indices': [0, 23]}]}, 'description': {'urls': []}}, 'protected': False, 'followers_count': 306, 'friends_count': 345, 'listed_count': 3, 'created_at': 'Fri Sep 17 23:13:20 +0000 2010', 'favourites_count': 10268, 'utc_offset': None, 'time_zone': None, 'geo_enabled': True, 'verified': False, 'statuses_count': 7534, 'lang': None, 'status': {'created_at': 'Sat Apr 11 21:11:43 +0000 2020', 'id': 1249082725258182657, 'id_str': '1249082725258182657', 'text': 'RT @ladyprospera: -Doctor, tiene que explicar de forma que la mayoría de la población entienda.\\n\\n-No se diga más: https://t.co/fVntiMBv03', 'truncated': False, 'entities': {'hashtags': [], 'symbols': [], 'user_mentions': [{'screen_name': 'ladyprospera', 'name': 'LP-19', 'id': 2258586354, 'id_str': '2258586354', 'indices': [3, 16]}], 'urls': [], 'media': [{'id': 1248982749958078464, 'id_str': '1248982749958078464', 'indices': [114, 137], 'media_url': 'http://pbs.twimg.com/ext_tw_video_thumb/1248982749958078464/pu/img/ir_D5vk8Q2v1jM0n.jpg', 'media_url_https': 'https://pbs.twimg.com/ext_tw_video_thumb/1248982749958078464/pu/img/ir_D5vk8Q2v1jM0n.jpg', 'url': 'https://t.co/fVntiMBv03', 'display_url': 'pic.twitter.com/fVntiMBv03', 'expanded_url': 'https://twitter.com/ladyprospera/status/1248982788713439234/video/1', 'type': 'photo', 'sizes': {'thumb': {'w': 150, 'h': 150, 'resize': 'crop'}, 'medium': {'w': 540, 'h': 440, 'resize': 'fit'}, 'small': {'w': 540, 'h': 440, 'resize': 'fit'}, 'large': {'w': 540, 'h': 440, 'resize': 'fit'}}, 'source_status_id': 1248982788713439234, 'source_status_id_str': '1248982788713439234', 'source_user_id': 2258586354, 'source_user_id_str': '2258586354'}]}, 'extended_entities': {'media': [{'id': 1248982749958078464, 'id_str': '1248982749958078464', 'indices': [114, 137], 'media_url': 'http://pbs.twimg.com/ext_tw_video_thumb/1248982749958078464/pu/img/ir_D5vk8Q2v1jM0n.jpg', 'media_url_https': 'https://pbs.twimg.com/ext_tw_video_thumb/1248982749958078464/pu/img/ir_D5vk8Q2v1jM0n.jpg', 'url': 'https://t.co/fVntiMBv03', 'display_url': 'pic.twitter.com/fVntiMBv03', 'expanded_url': 'https://twitter.com/ladyprospera/status/1248982788713439234/video/1', 'type': 'video', 'sizes': {'thumb': {'w': 150, 'h': 150, 'resize': 'crop'}, 'medium': {'w': 540, 'h': 440, 'resize': 'fit'}, 'small': {'w': 540, 'h': 440, 'resize': 'fit'}, 'large': {'w': 540, 'h': 440, 'resize': 'fit'}}, 'source_status_id': 1248982788713439234, 'source_status_id_str': '1248982788713439234', 'source_user_id': 2258586354, 'source_user_id_str': '2258586354', 'video_info': {'aspect_ratio': [27, 22], 'duration_millis': 6467, 'variants': [{'bitrate': 256000, 'content_type': 'video/mp4', 'url': 'https://video.twimg.com/ext_tw_video/1248982749958078464/pu/vid/330x270/bRX1Rod36uYxY_UZ.mp4?tag=10'}, {'content_type': 'application/x-mpegURL', 'url': 'https://video.twimg.com/ext_tw_video/1248982749958078464/pu/pl/V3PA14pdVC2-EZ6d.m3u8?tag=10'}, {'bitrate': 832000, 'content_type': 'video/mp4', 'url': 'https://video.twimg.com/ext_tw_video/1248982749958078464/pu/vid/540x440/iUg2s6kYZESO7YKC.mp4?tag=10'}]}, 'additional_media_info': {'monetizable': False}}]}, 'source': '<a href=\"http://twitter.com/download/iphone\" rel=\"nofollow\">Twitter for iPhone</a>', 'in_reply_to_status_id': None, 'in_reply_to_status_id_str': None, 'in_reply_to_user_id': None, 'in_reply_to_user_id_str': None, 'in_reply_to_screen_name': None, 'geo': None, 'coordinates': None, 'place': None, 'contributors': None, 'retweeted_status': {'created_at': 'Sat Apr 11 14:34:36 +0000 2020', 'id': 1248982788713439234, 'id_str': '1248982788713439234', 'text': '-Doctor, tiene que explicar de forma que la mayoría de la población entienda.\\n\\n-No se diga más: https://t.co/fVntiMBv03', 'truncated': False, 'entities': {'hashtags': [], 'symbols': [], 'user_mentions': [], 'urls': [], 'media': [{'id': 1248982749958078464, 'id_str': '1248982749958078464', 'indices': [96, 119], 'media_url': 'http://pbs.twimg.com/ext_tw_video_thumb/1248982749958078464/pu/img/ir_D5vk8Q2v1jM0n.jpg', 'media_url_https': 'https://pbs.twimg.com/ext_tw_video_thumb/1248982749958078464/pu/img/ir_D5vk8Q2v1jM0n.jpg', 'url': 'https://t.co/fVntiMBv03', 'display_url': 'pic.twitter.com/fVntiMBv03', 'expanded_url': 'https://twitter.com/ladyprospera/status/1248982788713439234/video/1', 'type': 'photo', 'sizes': {'thumb': {'w': 150, 'h': 150, 'resize': 'crop'}, 'medium': {'w': 540, 'h': 440, 'resize': 'fit'}, 'small': {'w': 540, 'h': 440, 'resize': 'fit'}, 'large': {'w': 540, 'h': 440, 'resize': 'fit'}}}]}, 'extended_entities': {'media': [{'id': 1248982749958078464, 'id_str': '1248982749958078464', 'indices': [96, 119], 'media_url': 'http://pbs.twimg.com/ext_tw_video_thumb/1248982749958078464/pu/img/ir_D5vk8Q2v1jM0n.jpg', 'media_url_https': 'https://pbs.twimg.com/ext_tw_video_thumb/1248982749958078464/pu/img/ir_D5vk8Q2v1jM0n.jpg', 'url': 'https://t.co/fVntiMBv03', 'display_url': 'pic.twitter.com/fVntiMBv03', 'expanded_url': 'https://twitter.com/ladyprospera/status/1248982788713439234/video/1', 'type': 'video', 'sizes': {'thumb': {'w': 150, 'h': 150, 'resize': 'crop'}, 'medium': {'w': 540, 'h': 440, 'resize': 'fit'}, 'small': {'w': 540, 'h': 440, 'resize': 'fit'}, 'large': {'w': 540, 'h': 440, 'resize': 'fit'}}, 'video_info': {'aspect_ratio': [27, 22], 'duration_millis': 6467, 'variants': [{'bitrate': 256000, 'content_type': 'video/mp4', 'url': 'https://video.twimg.com/ext_tw_video/1248982749958078464/pu/vid/330x270/bRX1Rod36uYxY_UZ.mp4?tag=10'}, {'content_type': 'application/x-mpegURL', 'url': 'https://video.twimg.com/ext_tw_video/1248982749958078464/pu/pl/V3PA14pdVC2-EZ6d.m3u8?tag=10'}, {'bitrate': 832000, 'content_type': 'video/mp4', 'url': 'https://video.twimg.com/ext_tw_video/1248982749958078464/pu/vid/540x440/iUg2s6kYZESO7YKC.mp4?tag=10'}]}, 'additional_media_info': {'monetizable': False}}]}, 'source': '<a href=\"http://twitter.com/download/iphone\" rel=\"nofollow\">Twitter for iPhone</a>', 'in_reply_to_status_id': None, 'in_reply_to_status_id_str': None, 'in_reply_to_user_id': None, 'in_reply_to_user_id_str': None, 'in_reply_to_screen_name': None, 'geo': None, 'coordinates': None, 'place': None, 'contributors': None, 'is_quote_status': False, 'retweet_count': 419, 'favorite_count': 1217, 'favorited': True, 'retweeted': True, 'possibly_sensitive': False, 'lang': 'es'}, 'is_quote_status': False, 'retweet_count': 419, 'favorite_count': 0, 'favorited': True, 'retweeted': True, 'possibly_sensitive': False, 'lang': 'es'}, 'contributors_enabled': False, 'is_translator': False, 'is_translation_enabled': False, 'profile_background_color': 'FFF04D', 'profile_background_image_url': 'http://abs.twimg.com/images/themes/theme19/bg.gif', 'profile_background_image_url_https': 'https://abs.twimg.com/images/themes/theme19/bg.gif', 'profile_background_tile': True, 'profile_image_url': 'http://pbs.twimg.com/profile_images/1237709669411565569/YtYAeFI7_normal.jpg', 'profile_image_url_https': 'https://pbs.twimg.com/profile_images/1237709669411565569/YtYAeFI7_normal.jpg', 'profile_banner_url': 'https://pbs.twimg.com/profile_banners/192008732/1348634787', 'profile_link_color': '63CC00', 'profile_sidebar_border_color': 'FFFFFF', 'profile_sidebar_fill_color': 'C5E9FA', 'profile_text_color': '050505', 'profile_use_background_image': True, 'has_extended_profile': False, 'default_profile': False, 'default_profile_image': False, 'following': False, 'follow_request_sent': False, 'notifications': False, 'translator_type': 'none'}, id=192008732, id_str='192008732', name='Ilse Espino Barros', screen_name='ilseespino', location='Monterrey', description='Wanderlust.', url='https://t.co/ihVcjTG4X1', entities={'url': {'urls': [{'url': 'https://t.co/ihVcjTG4X1', 'expanded_url': 'http://stop-foraminute.tumblr.com', 'display_url': 'stop-foraminute.tumblr.com', 'indices': [0, 23]}]}, 'description': {'urls': []}}, protected=False, followers_count=306, friends_count=345, listed_count=3, created_at=datetime.datetime(2010, 9, 17, 23, 13, 20), favourites_count=10268, utc_offset=None, time_zone=None, geo_enabled=True, verified=False, statuses_count=7534, lang=None, status=Status(_api=<tweepy.api.API object at 0x0000026A601ACB08>, _json={'created_at': 'Sat Apr 11 21:11:43 +0000 2020', 'id': 1249082725258182657, 'id_str': '1249082725258182657', 'text': 'RT @ladyprospera: -Doctor, tiene que explicar de forma que la mayoría de la población entienda.\\n\\n-No se diga más: https://t.co/fVntiMBv03', 'truncated': False, 'entities': {'hashtags': [], 'symbols': [], 'user_mentions': [{'screen_name': 'ladyprospera', 'name': 'LP-19', 'id': 2258586354, 'id_str': '2258586354', 'indices': [3, 16]}], 'urls': [], 'media': [{'id': 1248982749958078464, 'id_str': '1248982749958078464', 'indices': [114, 137], 'media_url': 'http://pbs.twimg.com/ext_tw_video_thumb/1248982749958078464/pu/img/ir_D5vk8Q2v1jM0n.jpg', 'media_url_https': 'https://pbs.twimg.com/ext_tw_video_thumb/1248982749958078464/pu/img/ir_D5vk8Q2v1jM0n.jpg', 'url': 'https://t.co/fVntiMBv03', 'display_url': 'pic.twitter.com/fVntiMBv03', 'expanded_url': 'https://twitter.com/ladyprospera/status/1248982788713439234/video/1', 'type': 'photo', 'sizes': {'thumb': {'w': 150, 'h': 150, 'resize': 'crop'}, 'medium': {'w': 540, 'h': 440, 'resize': 'fit'}, 'small': {'w': 540, 'h': 440, 'resize': 'fit'}, 'large': {'w': 540, 'h': 440, 'resize': 'fit'}}, 'source_status_id': 1248982788713439234, 'source_status_id_str': '1248982788713439234', 'source_user_id': 2258586354, 'source_user_id_str': '2258586354'}]}, 'extended_entities': {'media': [{'id': 1248982749958078464, 'id_str': '1248982749958078464', 'indices': [114, 137], 'media_url': 'http://pbs.twimg.com/ext_tw_video_thumb/1248982749958078464/pu/img/ir_D5vk8Q2v1jM0n.jpg', 'media_url_https': 'https://pbs.twimg.com/ext_tw_video_thumb/1248982749958078464/pu/img/ir_D5vk8Q2v1jM0n.jpg', 'url': 'https://t.co/fVntiMBv03', 'display_url': 'pic.twitter.com/fVntiMBv03', 'expanded_url': 'https://twitter.com/ladyprospera/status/1248982788713439234/video/1', 'type': 'video', 'sizes': {'thumb': {'w': 150, 'h': 150, 'resize': 'crop'}, 'medium': {'w': 540, 'h': 440, 'resize': 'fit'}, 'small': {'w': 540, 'h': 440, 'resize': 'fit'}, 'large': {'w': 540, 'h': 440, 'resize': 'fit'}}, 'source_status_id': 1248982788713439234, 'source_status_id_str': '1248982788713439234', 'source_user_id': 2258586354, 'source_user_id_str': '2258586354', 'video_info': {'aspect_ratio': [27, 22], 'duration_millis': 6467, 'variants': [{'bitrate': 256000, 'content_type': 'video/mp4', 'url': 'https://video.twimg.com/ext_tw_video/1248982749958078464/pu/vid/330x270/bRX1Rod36uYxY_UZ.mp4?tag=10'}, {'content_type': 'application/x-mpegURL', 'url': 'https://video.twimg.com/ext_tw_video/1248982749958078464/pu/pl/V3PA14pdVC2-EZ6d.m3u8?tag=10'}, {'bitrate': 832000, 'content_type': 'video/mp4', 'url': 'https://video.twimg.com/ext_tw_video/1248982749958078464/pu/vid/540x440/iUg2s6kYZESO7YKC.mp4?tag=10'}]}, 'additional_media_info': {'monetizable': False}}]}, 'source': '<a href=\"http://twitter.com/download/iphone\" rel=\"nofollow\">Twitter for iPhone</a>', 'in_reply_to_status_id': None, 'in_reply_to_status_id_str': None, 'in_reply_to_user_id': None, 'in_reply_to_user_id_str': None, 'in_reply_to_screen_name': None, 'geo': None, 'coordinates': None, 'place': None, 'contributors': None, 'retweeted_status': {'created_at': 'Sat Apr 11 14:34:36 +0000 2020', 'id': 1248982788713439234, 'id_str': '1248982788713439234', 'text': '-Doctor, tiene que explicar de forma que la mayoría de la población entienda.\\n\\n-No se diga más: https://t.co/fVntiMBv03', 'truncated': False, 'entities': {'hashtags': [], 'symbols': [], 'user_mentions': [], 'urls': [], 'media': [{'id': 1248982749958078464, 'id_str': '1248982749958078464', 'indices': [96, 119], 'media_url': 'http://pbs.twimg.com/ext_tw_video_thumb/1248982749958078464/pu/img/ir_D5vk8Q2v1jM0n.jpg', 'media_url_https': 'https://pbs.twimg.com/ext_tw_video_thumb/1248982749958078464/pu/img/ir_D5vk8Q2v1jM0n.jpg', 'url': 'https://t.co/fVntiMBv03', 'display_url': 'pic.twitter.com/fVntiMBv03', 'expanded_url': 'https://twitter.com/ladyprospera/status/1248982788713439234/video/1', 'type': 'photo', 'sizes': {'thumb': {'w': 150, 'h': 150, 'resize': 'crop'}, 'medium': {'w': 540, 'h': 440, 'resize': 'fit'}, 'small': {'w': 540, 'h': 440, 'resize': 'fit'}, 'large': {'w': 540, 'h': 440, 'resize': 'fit'}}}]}, 'extended_entities': {'media': [{'id': 1248982749958078464, 'id_str': '1248982749958078464', 'indices': [96, 119], 'media_url': 'http://pbs.twimg.com/ext_tw_video_thumb/1248982749958078464/pu/img/ir_D5vk8Q2v1jM0n.jpg', 'media_url_https': 'https://pbs.twimg.com/ext_tw_video_thumb/1248982749958078464/pu/img/ir_D5vk8Q2v1jM0n.jpg', 'url': 'https://t.co/fVntiMBv03', 'display_url': 'pic.twitter.com/fVntiMBv03', 'expanded_url': 'https://twitter.com/ladyprospera/status/1248982788713439234/video/1', 'type': 'video', 'sizes': {'thumb': {'w': 150, 'h': 150, 'resize': 'crop'}, 'medium': {'w': 540, 'h': 440, 'resize': 'fit'}, 'small': {'w': 540, 'h': 440, 'resize': 'fit'}, 'large': {'w': 540, 'h': 440, 'resize': 'fit'}}, 'video_info': {'aspect_ratio': [27, 22], 'duration_millis': 6467, 'variants': [{'bitrate': 256000, 'content_type': 'video/mp4', 'url': 'https://video.twimg.com/ext_tw_video/1248982749958078464/pu/vid/330x270/bRX1Rod36uYxY_UZ.mp4?tag=10'}, {'content_type': 'application/x-mpegURL', 'url': 'https://video.twimg.com/ext_tw_video/1248982749958078464/pu/pl/V3PA14pdVC2-EZ6d.m3u8?tag=10'}, {'bitrate': 832000, 'content_type': 'video/mp4', 'url': 'https://video.twimg.com/ext_tw_video/1248982749958078464/pu/vid/540x440/iUg2s6kYZESO7YKC.mp4?tag=10'}]}, 'additional_media_info': {'monetizable': False}}]}, 'source': '<a href=\"http://twitter.com/download/iphone\" rel=\"nofollow\">Twitter for iPhone</a>', 'in_reply_to_status_id': None, 'in_reply_to_status_id_str': None, 'in_reply_to_user_id': None, 'in_reply_to_user_id_str': None, 'in_reply_to_screen_name': None, 'geo': None, 'coordinates': None, 'place': None, 'contributors': None, 'is_quote_status': False, 'retweet_count': 419, 'favorite_count': 1217, 'favorited': True, 'retweeted': True, 'possibly_sensitive': False, 'lang': 'es'}, 'is_quote_status': False, 'retweet_count': 419, 'favorite_count': 0, 'favorited': True, 'retweeted': True, 'possibly_sensitive': False, 'lang': 'es'}, created_at=datetime.datetime(2020, 4, 11, 21, 11, 43), id=1249082725258182657, id_str='1249082725258182657', text='RT @ladyprospera: -Doctor, tiene que explicar de forma que la mayoría de la población entienda.\\n\\n-No se diga más: https://t.co/fVntiMBv03', truncated=False, entities={'hashtags': [], 'symbols': [], 'user_mentions': [{'screen_name': 'ladyprospera', 'name': 'LP-19', 'id': 2258586354, 'id_str': '2258586354', 'indices': [3, 16]}], 'urls': [], 'media': [{'id': 1248982749958078464, 'id_str': '1248982749958078464', 'indices': [114, 137], 'media_url': 'http://pbs.twimg.com/ext_tw_video_thumb/1248982749958078464/pu/img/ir_D5vk8Q2v1jM0n.jpg', 'media_url_https': 'https://pbs.twimg.com/ext_tw_video_thumb/1248982749958078464/pu/img/ir_D5vk8Q2v1jM0n.jpg', 'url': 'https://t.co/fVntiMBv03', 'display_url': 'pic.twitter.com/fVntiMBv03', 'expanded_url': 'https://twitter.com/ladyprospera/status/1248982788713439234/video/1', 'type': 'photo', 'sizes': {'thumb': {'w': 150, 'h': 150, 'resize': 'crop'}, 'medium': {'w': 540, 'h': 440, 'resize': 'fit'}, 'small': {'w': 540, 'h': 440, 'resize': 'fit'}, 'large': {'w': 540, 'h': 440, 'resize': 'fit'}}, 'source_status_id': 1248982788713439234, 'source_status_id_str': '1248982788713439234', 'source_user_id': 2258586354, 'source_user_id_str': '2258586354'}]}, extended_entities={'media': [{'id': 1248982749958078464, 'id_str': '1248982749958078464', 'indices': [114, 137], 'media_url': 'http://pbs.twimg.com/ext_tw_video_thumb/1248982749958078464/pu/img/ir_D5vk8Q2v1jM0n.jpg', 'media_url_https': 'https://pbs.twimg.com/ext_tw_video_thumb/1248982749958078464/pu/img/ir_D5vk8Q2v1jM0n.jpg', 'url': 'https://t.co/fVntiMBv03', 'display_url': 'pic.twitter.com/fVntiMBv03', 'expanded_url': 'https://twitter.com/ladyprospera/status/1248982788713439234/video/1', 'type': 'video', 'sizes': {'thumb': {'w': 150, 'h': 150, 'resize': 'crop'}, 'medium': {'w': 540, 'h': 440, 'resize': 'fit'}, 'small': {'w': 540, 'h': 440, 'resize': 'fit'}, 'large': {'w': 540, 'h': 440, 'resize': 'fit'}}, 'source_status_id': 1248982788713439234, 'source_status_id_str': '1248982788713439234', 'source_user_id': 2258586354, 'source_user_id_str': '2258586354', 'video_info': {'aspect_ratio': [27, 22], 'duration_millis': 6467, 'variants': [{'bitrate': 256000, 'content_type': 'video/mp4', 'url': 'https://video.twimg.com/ext_tw_video/1248982749958078464/pu/vid/330x270/bRX1Rod36uYxY_UZ.mp4?tag=10'}, {'content_type': 'application/x-mpegURL', 'url': 'https://video.twimg.com/ext_tw_video/1248982749958078464/pu/pl/V3PA14pdVC2-EZ6d.m3u8?tag=10'}, {'bitrate': 832000, 'content_type': 'video/mp4', 'url': 'https://video.twimg.com/ext_tw_video/1248982749958078464/pu/vid/540x440/iUg2s6kYZESO7YKC.mp4?tag=10'}]}, 'additional_media_info': {'monetizable': False}}]}, source='Twitter for iPhone', source_url='http://twitter.com/download/iphone', in_reply_to_status_id=None, in_reply_to_status_id_str=None, in_reply_to_user_id=None, in_reply_to_user_id_str=None, in_reply_to_screen_name=None, geo=None, coordinates=None, place=None, contributors=None, retweeted_status=Status(_api=<tweepy.api.API object at 0x0000026A601ACB08>, _json={'created_at': 'Sat Apr 11 14:34:36 +0000 2020', 'id': 1248982788713439234, 'id_str': '1248982788713439234', 'text': '-Doctor, tiene que explicar de forma que la mayoría de la población entienda.\\n\\n-No se diga más: https://t.co/fVntiMBv03', 'truncated': False, 'entities': {'hashtags': [], 'symbols': [], 'user_mentions': [], 'urls': [], 'media': [{'id': 1248982749958078464, 'id_str': '1248982749958078464', 'indices': [96, 119], 'media_url': 'http://pbs.twimg.com/ext_tw_video_thumb/1248982749958078464/pu/img/ir_D5vk8Q2v1jM0n.jpg', 'media_url_https': 'https://pbs.twimg.com/ext_tw_video_thumb/1248982749958078464/pu/img/ir_D5vk8Q2v1jM0n.jpg', 'url': 'https://t.co/fVntiMBv03', 'display_url': 'pic.twitter.com/fVntiMBv03', 'expanded_url': 'https://twitter.com/ladyprospera/status/1248982788713439234/video/1', 'type': 'photo', 'sizes': {'thumb': {'w': 150, 'h': 150, 'resize': 'crop'}, 'medium': {'w': 540, 'h': 440, 'resize': 'fit'}, 'small': {'w': 540, 'h': 440, 'resize': 'fit'}, 'large': {'w': 540, 'h': 440, 'resize': 'fit'}}}]}, 'extended_entities': {'media': [{'id': 1248982749958078464, 'id_str': '1248982749958078464', 'indices': [96, 119], 'media_url': 'http://pbs.twimg.com/ext_tw_video_thumb/1248982749958078464/pu/img/ir_D5vk8Q2v1jM0n.jpg', 'media_url_https': 'https://pbs.twimg.com/ext_tw_video_thumb/1248982749958078464/pu/img/ir_D5vk8Q2v1jM0n.jpg', 'url': 'https://t.co/fVntiMBv03', 'display_url': 'pic.twitter.com/fVntiMBv03', 'expanded_url': 'https://twitter.com/ladyprospera/status/1248982788713439234/video/1', 'type': 'video', 'sizes': {'thumb': {'w': 150, 'h': 150, 'resize': 'crop'}, 'medium': {'w': 540, 'h': 440, 'resize': 'fit'}, 'small': {'w': 540, 'h': 440, 'resize': 'fit'}, 'large': {'w': 540, 'h': 440, 'resize': 'fit'}}, 'video_info': {'aspect_ratio': [27, 22], 'duration_millis': 6467, 'variants': [{'bitrate': 256000, 'content_type': 'video/mp4', 'url': 'https://video.twimg.com/ext_tw_video/1248982749958078464/pu/vid/330x270/bRX1Rod36uYxY_UZ.mp4?tag=10'}, {'content_type': 'application/x-mpegURL', 'url': 'https://video.twimg.com/ext_tw_video/1248982749958078464/pu/pl/V3PA14pdVC2-EZ6d.m3u8?tag=10'}, {'bitrate': 832000, 'content_type': 'video/mp4', 'url': 'https://video.twimg.com/ext_tw_video/1248982749958078464/pu/vid/540x440/iUg2s6kYZESO7YKC.mp4?tag=10'}]}, 'additional_media_info': {'monetizable': False}}]}, 'source': '<a href=\"http://twitter.com/download/iphone\" rel=\"nofollow\">Twitter for iPhone</a>', 'in_reply_to_status_id': None, 'in_reply_to_status_id_str': None, 'in_reply_to_user_id': None, 'in_reply_to_user_id_str': None, 'in_reply_to_screen_name': None, 'geo': None, 'coordinates': None, 'place': None, 'contributors': None, 'is_quote_status': False, 'retweet_count': 419, 'favorite_count': 1217, 'favorited': True, 'retweeted': True, 'possibly_sensitive': False, 'lang': 'es'}, created_at=datetime.datetime(2020, 4, 11, 14, 34, 36), id=1248982788713439234, id_str='1248982788713439234', text='-Doctor, tiene que explicar de forma que la mayoría de la población entienda.\\n\\n-No se diga más: https://t.co/fVntiMBv03', truncated=False, entities={'hashtags': [], 'symbols': [], 'user_mentions': [], 'urls': [], 'media': [{'id': 1248982749958078464, 'id_str': '1248982749958078464', 'indices': [96, 119], 'media_url': 'http://pbs.twimg.com/ext_tw_video_thumb/1248982749958078464/pu/img/ir_D5vk8Q2v1jM0n.jpg', 'media_url_https': 'https://pbs.twimg.com/ext_tw_video_thumb/1248982749958078464/pu/img/ir_D5vk8Q2v1jM0n.jpg', 'url': 'https://t.co/fVntiMBv03', 'display_url': 'pic.twitter.com/fVntiMBv03', 'expanded_url': 'https://twitter.com/ladyprospera/status/1248982788713439234/video/1', 'type': 'photo', 'sizes': {'thumb': {'w': 150, 'h': 150, 'resize': 'crop'}, 'medium': {'w': 540, 'h': 440, 'resize': 'fit'}, 'small': {'w': 540, 'h': 440, 'resize': 'fit'}, 'large': {'w': 540, 'h': 440, 'resize': 'fit'}}}]}, extended_entities={'media': [{'id': 1248982749958078464, 'id_str': '1248982749958078464', 'indices': [96, 119], 'media_url': 'http://pbs.twimg.com/ext_tw_video_thumb/1248982749958078464/pu/img/ir_D5vk8Q2v1jM0n.jpg', 'media_url_https': 'https://pbs.twimg.com/ext_tw_video_thumb/1248982749958078464/pu/img/ir_D5vk8Q2v1jM0n.jpg', 'url': 'https://t.co/fVntiMBv03', 'display_url': 'pic.twitter.com/fVntiMBv03', 'expanded_url': 'https://twitter.com/ladyprospera/status/1248982788713439234/video/1', 'type': 'video', 'sizes': {'thumb': {'w': 150, 'h': 150, 'resize': 'crop'}, 'medium': {'w': 540, 'h': 440, 'resize': 'fit'}, 'small': {'w': 540, 'h': 440, 'resize': 'fit'}, 'large': {'w': 540, 'h': 440, 'resize': 'fit'}}, 'video_info': {'aspect_ratio': [27, 22], 'duration_millis': 6467, 'variants': [{'bitrate': 256000, 'content_type': 'video/mp4', 'url': 'https://video.twimg.com/ext_tw_video/1248982749958078464/pu/vid/330x270/bRX1Rod36uYxY_UZ.mp4?tag=10'}, {'content_type': 'application/x-mpegURL', 'url': 'https://video.twimg.com/ext_tw_video/1248982749958078464/pu/pl/V3PA14pdVC2-EZ6d.m3u8?tag=10'}, {'bitrate': 832000, 'content_type': 'video/mp4', 'url': 'https://video.twimg.com/ext_tw_video/1248982749958078464/pu/vid/540x440/iUg2s6kYZESO7YKC.mp4?tag=10'}]}, 'additional_media_info': {'monetizable': False}}]}, source='Twitter for iPhone', source_url='http://twitter.com/download/iphone', in_reply_to_status_id=None, in_reply_to_status_id_str=None, in_reply_to_user_id=None, in_reply_to_user_id_str=None, in_reply_to_screen_name=None, geo=None, coordinates=None, place=None, contributors=None, is_quote_status=False, retweet_count=419, favorite_count=1217, favorited=True, retweeted=True, possibly_sensitive=False, lang='es'), is_quote_status=False, retweet_count=419, favorite_count=0, favorited=True, retweeted=True, possibly_sensitive=False, lang='es'), contributors_enabled=False, is_translator=False, is_translation_enabled=False, profile_background_color='FFF04D', profile_background_image_url='http://abs.twimg.com/images/themes/theme19/bg.gif', profile_background_image_url_https='https://abs.twimg.com/images/themes/theme19/bg.gif', profile_background_tile=True, profile_image_url='http://pbs.twimg.com/profile_images/1237709669411565569/YtYAeFI7_normal.jpg', profile_image_url_https='https://pbs.twimg.com/profile_images/1237709669411565569/YtYAeFI7_normal.jpg', profile_banner_url='https://pbs.twimg.com/profile_banners/192008732/1348634787', profile_link_color='63CC00', profile_sidebar_border_color='FFFFFF', profile_sidebar_fill_color='C5E9FA', profile_text_color='050505', profile_use_background_image=True, has_extended_profile=False, default_profile=False, default_profile_image=False, following=False, follow_request_sent=False, notifications=False, translator_type='none'),\n",
       " User(_api=<tweepy.api.API object at 0x0000026A601ACB08>, _json={'id': 2773946589, 'id_str': '2773946589', 'name': 'Ilse Espinoza Flores', 'screen_name': 'ilseespino17', 'location': 'Guaymas,Sonora', 'description': '', 'url': None, 'entities': {'description': {'urls': []}}, 'protected': False, 'followers_count': 3, 'friends_count': 18, 'listed_count': 0, 'created_at': 'Wed Sep 17 23:00:15 +0000 2014', 'favourites_count': 3, 'utc_offset': None, 'time_zone': None, 'geo_enabled': False, 'verified': False, 'statuses_count': 4, 'lang': None, 'status': {'created_at': 'Wed Aug 26 23:53:35 +0000 2015', 'id': 636687967914844160, 'id_str': '636687967914844160', 'text': 'Con mi mejor amiga', 'truncated': False, 'entities': {'hashtags': [], 'symbols': [], 'user_mentions': [], 'urls': []}, 'source': '<a href=\"http://twitter.com/download/android\" rel=\"nofollow\">Twitter for Android</a>', 'in_reply_to_status_id': None, 'in_reply_to_status_id_str': None, 'in_reply_to_user_id': None, 'in_reply_to_user_id_str': None, 'in_reply_to_screen_name': None, 'geo': None, 'coordinates': None, 'place': None, 'contributors': None, 'is_quote_status': False, 'retweet_count': 0, 'favorite_count': 0, 'favorited': False, 'retweeted': False, 'lang': 'es'}, 'contributors_enabled': False, 'is_translator': False, 'is_translation_enabled': False, 'profile_background_color': 'C0DEED', 'profile_background_image_url': 'http://abs.twimg.com/images/themes/theme1/bg.png', 'profile_background_image_url_https': 'https://abs.twimg.com/images/themes/theme1/bg.png', 'profile_background_tile': False, 'profile_image_url': 'http://pbs.twimg.com/profile_images/636686865412714496/9CU4yY3D_normal.jpg', 'profile_image_url_https': 'https://pbs.twimg.com/profile_images/636686865412714496/9CU4yY3D_normal.jpg', 'profile_link_color': '1DA1F2', 'profile_sidebar_border_color': 'C0DEED', 'profile_sidebar_fill_color': 'DDEEF6', 'profile_text_color': '333333', 'profile_use_background_image': True, 'has_extended_profile': False, 'default_profile': True, 'default_profile_image': False, 'following': False, 'follow_request_sent': False, 'notifications': False, 'translator_type': 'none'}, id=2773946589, id_str='2773946589', name='Ilse Espinoza Flores', screen_name='ilseespino17', location='Guaymas,Sonora', description='', url=None, entities={'description': {'urls': []}}, protected=False, followers_count=3, friends_count=18, listed_count=0, created_at=datetime.datetime(2014, 9, 17, 23, 0, 15), favourites_count=3, utc_offset=None, time_zone=None, geo_enabled=False, verified=False, statuses_count=4, lang=None, status=Status(_api=<tweepy.api.API object at 0x0000026A601ACB08>, _json={'created_at': 'Wed Aug 26 23:53:35 +0000 2015', 'id': 636687967914844160, 'id_str': '636687967914844160', 'text': 'Con mi mejor amiga', 'truncated': False, 'entities': {'hashtags': [], 'symbols': [], 'user_mentions': [], 'urls': []}, 'source': '<a href=\"http://twitter.com/download/android\" rel=\"nofollow\">Twitter for Android</a>', 'in_reply_to_status_id': None, 'in_reply_to_status_id_str': None, 'in_reply_to_user_id': None, 'in_reply_to_user_id_str': None, 'in_reply_to_screen_name': None, 'geo': None, 'coordinates': None, 'place': None, 'contributors': None, 'is_quote_status': False, 'retweet_count': 0, 'favorite_count': 0, 'favorited': False, 'retweeted': False, 'lang': 'es'}, created_at=datetime.datetime(2015, 8, 26, 23, 53, 35), id=636687967914844160, id_str='636687967914844160', text='Con mi mejor amiga', truncated=False, entities={'hashtags': [], 'symbols': [], 'user_mentions': [], 'urls': []}, source='Twitter for Android', source_url='http://twitter.com/download/android', in_reply_to_status_id=None, in_reply_to_status_id_str=None, in_reply_to_user_id=None, in_reply_to_user_id_str=None, in_reply_to_screen_name=None, geo=None, coordinates=None, place=None, contributors=None, is_quote_status=False, retweet_count=0, favorite_count=0, favorited=False, retweeted=False, lang='es'), contributors_enabled=False, is_translator=False, is_translation_enabled=False, profile_background_color='C0DEED', profile_background_image_url='http://abs.twimg.com/images/themes/theme1/bg.png', profile_background_image_url_https='https://abs.twimg.com/images/themes/theme1/bg.png', profile_background_tile=False, profile_image_url='http://pbs.twimg.com/profile_images/636686865412714496/9CU4yY3D_normal.jpg', profile_image_url_https='https://pbs.twimg.com/profile_images/636686865412714496/9CU4yY3D_normal.jpg', profile_link_color='1DA1F2', profile_sidebar_border_color='C0DEED', profile_sidebar_fill_color='DDEEF6', profile_text_color='333333', profile_use_background_image=True, has_extended_profile=False, default_profile=True, default_profile_image=False, following=False, follow_request_sent=False, notifications=False, translator_type='none')]"
      ]
     },
     "execution_count": 8,
     "metadata": {},
     "output_type": "execute_result"
    }
   ],
   "source": [
    "api.search_users(\"ilseespino\")"
   ]
  },
  {
   "cell_type": "code",
   "execution_count": 19,
   "metadata": {},
   "outputs": [],
   "source": [
    "user = api.user_timeline(\"ilseespino\")"
   ]
  },
  {
   "cell_type": "code",
   "execution_count": 31,
   "metadata": {},
   "outputs": [
    {
     "data": {
      "text/plain": [
       "Status(_api=<tweepy.api.API object at 0x0000026A601ACB08>, _json={'created_at': 'Sat Apr 11 21:11:43 +0000 2020', 'id': 1249082725258182657, 'id_str': '1249082725258182657', 'text': 'RT @ladyprospera: -Doctor, tiene que explicar de forma que la mayoría de la población entienda.\\n\\n-No se diga más: https://t.co/fVntiMBv03', 'truncated': False, 'entities': {'hashtags': [], 'symbols': [], 'user_mentions': [{'screen_name': 'ladyprospera', 'name': 'LP-19', 'id': 2258586354, 'id_str': '2258586354', 'indices': [3, 16]}], 'urls': [], 'media': [{'id': 1248982749958078464, 'id_str': '1248982749958078464', 'indices': [114, 137], 'media_url': 'http://pbs.twimg.com/ext_tw_video_thumb/1248982749958078464/pu/img/ir_D5vk8Q2v1jM0n.jpg', 'media_url_https': 'https://pbs.twimg.com/ext_tw_video_thumb/1248982749958078464/pu/img/ir_D5vk8Q2v1jM0n.jpg', 'url': 'https://t.co/fVntiMBv03', 'display_url': 'pic.twitter.com/fVntiMBv03', 'expanded_url': 'https://twitter.com/ladyprospera/status/1248982788713439234/video/1', 'type': 'photo', 'sizes': {'thumb': {'w': 150, 'h': 150, 'resize': 'crop'}, 'medium': {'w': 540, 'h': 440, 'resize': 'fit'}, 'small': {'w': 540, 'h': 440, 'resize': 'fit'}, 'large': {'w': 540, 'h': 440, 'resize': 'fit'}}, 'source_status_id': 1248982788713439234, 'source_status_id_str': '1248982788713439234', 'source_user_id': 2258586354, 'source_user_id_str': '2258586354'}]}, 'extended_entities': {'media': [{'id': 1248982749958078464, 'id_str': '1248982749958078464', 'indices': [114, 137], 'media_url': 'http://pbs.twimg.com/ext_tw_video_thumb/1248982749958078464/pu/img/ir_D5vk8Q2v1jM0n.jpg', 'media_url_https': 'https://pbs.twimg.com/ext_tw_video_thumb/1248982749958078464/pu/img/ir_D5vk8Q2v1jM0n.jpg', 'url': 'https://t.co/fVntiMBv03', 'display_url': 'pic.twitter.com/fVntiMBv03', 'expanded_url': 'https://twitter.com/ladyprospera/status/1248982788713439234/video/1', 'type': 'video', 'sizes': {'thumb': {'w': 150, 'h': 150, 'resize': 'crop'}, 'medium': {'w': 540, 'h': 440, 'resize': 'fit'}, 'small': {'w': 540, 'h': 440, 'resize': 'fit'}, 'large': {'w': 540, 'h': 440, 'resize': 'fit'}}, 'source_status_id': 1248982788713439234, 'source_status_id_str': '1248982788713439234', 'source_user_id': 2258586354, 'source_user_id_str': '2258586354', 'video_info': {'aspect_ratio': [27, 22], 'duration_millis': 6467, 'variants': [{'bitrate': 256000, 'content_type': 'video/mp4', 'url': 'https://video.twimg.com/ext_tw_video/1248982749958078464/pu/vid/330x270/bRX1Rod36uYxY_UZ.mp4?tag=10'}, {'content_type': 'application/x-mpegURL', 'url': 'https://video.twimg.com/ext_tw_video/1248982749958078464/pu/pl/V3PA14pdVC2-EZ6d.m3u8?tag=10'}, {'bitrate': 832000, 'content_type': 'video/mp4', 'url': 'https://video.twimg.com/ext_tw_video/1248982749958078464/pu/vid/540x440/iUg2s6kYZESO7YKC.mp4?tag=10'}]}, 'additional_media_info': {'monetizable': False, 'source_user': {'id': 2258586354, 'id_str': '2258586354', 'name': 'LP-19', 'screen_name': 'ladyprospera', 'location': 'Monterrey, Nuevo León', 'description': 'Tengo 12 maravillosos hijos. El terror de todos los pasantes. Mi marido siempre me cuida. No pienso operarme para no tener familia. Aquí no se hacen memes.', 'url': 'https://t.co/NlEEmu5UT5', 'entities': {'url': {'urls': [{'url': 'https://t.co/NlEEmu5UT5', 'expanded_url': 'http://www.Instagram.com/ladyprospera', 'display_url': 'Instagram.com/ladyprospera', 'indices': [0, 23]}]}, 'description': {'urls': []}}, 'protected': False, 'followers_count': 9861, 'friends_count': 584, 'listed_count': 22, 'created_at': 'Mon Dec 23 07:09:34 +0000 2013', 'favourites_count': 104879, 'utc_offset': None, 'time_zone': None, 'geo_enabled': True, 'verified': False, 'statuses_count': 36407, 'lang': None, 'contributors_enabled': False, 'is_translator': False, 'is_translation_enabled': False, 'profile_background_color': 'C0DEED', 'profile_background_image_url': 'http://abs.twimg.com/images/themes/theme1/bg.png', 'profile_background_image_url_https': 'https://abs.twimg.com/images/themes/theme1/bg.png', 'profile_background_tile': False, 'profile_image_url': 'http://pbs.twimg.com/profile_images/1240027658848624640/vh_h02cO_normal.jpg', 'profile_image_url_https': 'https://pbs.twimg.com/profile_images/1240027658848624640/vh_h02cO_normal.jpg', 'profile_banner_url': 'https://pbs.twimg.com/profile_banners/2258586354/1581527370', 'profile_link_color': '1DA1F2', 'profile_sidebar_border_color': 'C0DEED', 'profile_sidebar_fill_color': 'DDEEF6', 'profile_text_color': '333333', 'profile_use_background_image': True, 'has_extended_profile': True, 'default_profile': True, 'default_profile_image': False, 'following': False, 'follow_request_sent': False, 'notifications': False, 'translator_type': 'none'}}}]}, 'source': '<a href=\"http://twitter.com/download/iphone\" rel=\"nofollow\">Twitter for iPhone</a>', 'in_reply_to_status_id': None, 'in_reply_to_status_id_str': None, 'in_reply_to_user_id': None, 'in_reply_to_user_id_str': None, 'in_reply_to_screen_name': None, 'user': {'id': 192008732, 'id_str': '192008732', 'name': 'Ilse Espino Barros', 'screen_name': 'ilseespino', 'location': 'Monterrey', 'description': 'Wanderlust.', 'url': 'https://t.co/ihVcjTG4X1', 'entities': {'url': {'urls': [{'url': 'https://t.co/ihVcjTG4X1', 'expanded_url': 'http://stop-foraminute.tumblr.com', 'display_url': 'stop-foraminute.tumblr.com', 'indices': [0, 23]}]}, 'description': {'urls': []}}, 'protected': False, 'followers_count': 306, 'friends_count': 345, 'listed_count': 3, 'created_at': 'Fri Sep 17 23:13:20 +0000 2010', 'favourites_count': 10268, 'utc_offset': None, 'time_zone': None, 'geo_enabled': True, 'verified': False, 'statuses_count': 7534, 'lang': None, 'contributors_enabled': False, 'is_translator': False, 'is_translation_enabled': False, 'profile_background_color': 'FFF04D', 'profile_background_image_url': 'http://abs.twimg.com/images/themes/theme19/bg.gif', 'profile_background_image_url_https': 'https://abs.twimg.com/images/themes/theme19/bg.gif', 'profile_background_tile': True, 'profile_image_url': 'http://pbs.twimg.com/profile_images/1237709669411565569/YtYAeFI7_normal.jpg', 'profile_image_url_https': 'https://pbs.twimg.com/profile_images/1237709669411565569/YtYAeFI7_normal.jpg', 'profile_banner_url': 'https://pbs.twimg.com/profile_banners/192008732/1348634787', 'profile_link_color': '63CC00', 'profile_sidebar_border_color': 'FFFFFF', 'profile_sidebar_fill_color': 'C5E9FA', 'profile_text_color': '050505', 'profile_use_background_image': True, 'has_extended_profile': False, 'default_profile': False, 'default_profile_image': False, 'following': False, 'follow_request_sent': False, 'notifications': False, 'translator_type': 'none'}, 'geo': None, 'coordinates': None, 'place': None, 'contributors': None, 'retweeted_status': {'created_at': 'Sat Apr 11 14:34:36 +0000 2020', 'id': 1248982788713439234, 'id_str': '1248982788713439234', 'text': '-Doctor, tiene que explicar de forma que la mayoría de la población entienda.\\n\\n-No se diga más: https://t.co/fVntiMBv03', 'truncated': False, 'entities': {'hashtags': [], 'symbols': [], 'user_mentions': [], 'urls': [], 'media': [{'id': 1248982749958078464, 'id_str': '1248982749958078464', 'indices': [96, 119], 'media_url': 'http://pbs.twimg.com/ext_tw_video_thumb/1248982749958078464/pu/img/ir_D5vk8Q2v1jM0n.jpg', 'media_url_https': 'https://pbs.twimg.com/ext_tw_video_thumb/1248982749958078464/pu/img/ir_D5vk8Q2v1jM0n.jpg', 'url': 'https://t.co/fVntiMBv03', 'display_url': 'pic.twitter.com/fVntiMBv03', 'expanded_url': 'https://twitter.com/ladyprospera/status/1248982788713439234/video/1', 'type': 'photo', 'sizes': {'thumb': {'w': 150, 'h': 150, 'resize': 'crop'}, 'medium': {'w': 540, 'h': 440, 'resize': 'fit'}, 'small': {'w': 540, 'h': 440, 'resize': 'fit'}, 'large': {'w': 540, 'h': 440, 'resize': 'fit'}}}]}, 'extended_entities': {'media': [{'id': 1248982749958078464, 'id_str': '1248982749958078464', 'indices': [96, 119], 'media_url': 'http://pbs.twimg.com/ext_tw_video_thumb/1248982749958078464/pu/img/ir_D5vk8Q2v1jM0n.jpg', 'media_url_https': 'https://pbs.twimg.com/ext_tw_video_thumb/1248982749958078464/pu/img/ir_D5vk8Q2v1jM0n.jpg', 'url': 'https://t.co/fVntiMBv03', 'display_url': 'pic.twitter.com/fVntiMBv03', 'expanded_url': 'https://twitter.com/ladyprospera/status/1248982788713439234/video/1', 'type': 'video', 'sizes': {'thumb': {'w': 150, 'h': 150, 'resize': 'crop'}, 'medium': {'w': 540, 'h': 440, 'resize': 'fit'}, 'small': {'w': 540, 'h': 440, 'resize': 'fit'}, 'large': {'w': 540, 'h': 440, 'resize': 'fit'}}, 'video_info': {'aspect_ratio': [27, 22], 'duration_millis': 6467, 'variants': [{'bitrate': 256000, 'content_type': 'video/mp4', 'url': 'https://video.twimg.com/ext_tw_video/1248982749958078464/pu/vid/330x270/bRX1Rod36uYxY_UZ.mp4?tag=10'}, {'content_type': 'application/x-mpegURL', 'url': 'https://video.twimg.com/ext_tw_video/1248982749958078464/pu/pl/V3PA14pdVC2-EZ6d.m3u8?tag=10'}, {'bitrate': 832000, 'content_type': 'video/mp4', 'url': 'https://video.twimg.com/ext_tw_video/1248982749958078464/pu/vid/540x440/iUg2s6kYZESO7YKC.mp4?tag=10'}]}, 'additional_media_info': {'monetizable': False}}]}, 'source': '<a href=\"http://twitter.com/download/iphone\" rel=\"nofollow\">Twitter for iPhone</a>', 'in_reply_to_status_id': None, 'in_reply_to_status_id_str': None, 'in_reply_to_user_id': None, 'in_reply_to_user_id_str': None, 'in_reply_to_screen_name': None, 'user': {'id': 2258586354, 'id_str': '2258586354', 'name': 'LP-19', 'screen_name': 'ladyprospera', 'location': 'Monterrey, Nuevo León', 'description': 'Tengo 12 maravillosos hijos. El terror de todos los pasantes. Mi marido siempre me cuida. No pienso operarme para no tener familia. Aquí no se hacen memes.', 'url': 'https://t.co/NlEEmu5UT5', 'entities': {'url': {'urls': [{'url': 'https://t.co/NlEEmu5UT5', 'expanded_url': 'http://www.Instagram.com/ladyprospera', 'display_url': 'Instagram.com/ladyprospera', 'indices': [0, 23]}]}, 'description': {'urls': []}}, 'protected': False, 'followers_count': 9861, 'friends_count': 584, 'listed_count': 22, 'created_at': 'Mon Dec 23 07:09:34 +0000 2013', 'favourites_count': 104879, 'utc_offset': None, 'time_zone': None, 'geo_enabled': True, 'verified': False, 'statuses_count': 36407, 'lang': None, 'contributors_enabled': False, 'is_translator': False, 'is_translation_enabled': False, 'profile_background_color': 'C0DEED', 'profile_background_image_url': 'http://abs.twimg.com/images/themes/theme1/bg.png', 'profile_background_image_url_https': 'https://abs.twimg.com/images/themes/theme1/bg.png', 'profile_background_tile': False, 'profile_image_url': 'http://pbs.twimg.com/profile_images/1240027658848624640/vh_h02cO_normal.jpg', 'profile_image_url_https': 'https://pbs.twimg.com/profile_images/1240027658848624640/vh_h02cO_normal.jpg', 'profile_banner_url': 'https://pbs.twimg.com/profile_banners/2258586354/1581527370', 'profile_link_color': '1DA1F2', 'profile_sidebar_border_color': 'C0DEED', 'profile_sidebar_fill_color': 'DDEEF6', 'profile_text_color': '333333', 'profile_use_background_image': True, 'has_extended_profile': True, 'default_profile': True, 'default_profile_image': False, 'following': False, 'follow_request_sent': False, 'notifications': False, 'translator_type': 'none'}, 'geo': None, 'coordinates': None, 'place': None, 'contributors': None, 'is_quote_status': False, 'retweet_count': 419, 'favorite_count': 1217, 'favorited': True, 'retweeted': True, 'possibly_sensitive': False, 'lang': 'es'}, 'is_quote_status': False, 'retweet_count': 419, 'favorite_count': 0, 'favorited': True, 'retweeted': True, 'possibly_sensitive': False, 'lang': 'es'}, created_at=datetime.datetime(2020, 4, 11, 21, 11, 43), id=1249082725258182657, id_str='1249082725258182657', text='RT @ladyprospera: -Doctor, tiene que explicar de forma que la mayoría de la población entienda.\\n\\n-No se diga más: https://t.co/fVntiMBv03', truncated=False, entities={'hashtags': [], 'symbols': [], 'user_mentions': [{'screen_name': 'ladyprospera', 'name': 'LP-19', 'id': 2258586354, 'id_str': '2258586354', 'indices': [3, 16]}], 'urls': [], 'media': [{'id': 1248982749958078464, 'id_str': '1248982749958078464', 'indices': [114, 137], 'media_url': 'http://pbs.twimg.com/ext_tw_video_thumb/1248982749958078464/pu/img/ir_D5vk8Q2v1jM0n.jpg', 'media_url_https': 'https://pbs.twimg.com/ext_tw_video_thumb/1248982749958078464/pu/img/ir_D5vk8Q2v1jM0n.jpg', 'url': 'https://t.co/fVntiMBv03', 'display_url': 'pic.twitter.com/fVntiMBv03', 'expanded_url': 'https://twitter.com/ladyprospera/status/1248982788713439234/video/1', 'type': 'photo', 'sizes': {'thumb': {'w': 150, 'h': 150, 'resize': 'crop'}, 'medium': {'w': 540, 'h': 440, 'resize': 'fit'}, 'small': {'w': 540, 'h': 440, 'resize': 'fit'}, 'large': {'w': 540, 'h': 440, 'resize': 'fit'}}, 'source_status_id': 1248982788713439234, 'source_status_id_str': '1248982788713439234', 'source_user_id': 2258586354, 'source_user_id_str': '2258586354'}]}, extended_entities={'media': [{'id': 1248982749958078464, 'id_str': '1248982749958078464', 'indices': [114, 137], 'media_url': 'http://pbs.twimg.com/ext_tw_video_thumb/1248982749958078464/pu/img/ir_D5vk8Q2v1jM0n.jpg', 'media_url_https': 'https://pbs.twimg.com/ext_tw_video_thumb/1248982749958078464/pu/img/ir_D5vk8Q2v1jM0n.jpg', 'url': 'https://t.co/fVntiMBv03', 'display_url': 'pic.twitter.com/fVntiMBv03', 'expanded_url': 'https://twitter.com/ladyprospera/status/1248982788713439234/video/1', 'type': 'video', 'sizes': {'thumb': {'w': 150, 'h': 150, 'resize': 'crop'}, 'medium': {'w': 540, 'h': 440, 'resize': 'fit'}, 'small': {'w': 540, 'h': 440, 'resize': 'fit'}, 'large': {'w': 540, 'h': 440, 'resize': 'fit'}}, 'source_status_id': 1248982788713439234, 'source_status_id_str': '1248982788713439234', 'source_user_id': 2258586354, 'source_user_id_str': '2258586354', 'video_info': {'aspect_ratio': [27, 22], 'duration_millis': 6467, 'variants': [{'bitrate': 256000, 'content_type': 'video/mp4', 'url': 'https://video.twimg.com/ext_tw_video/1248982749958078464/pu/vid/330x270/bRX1Rod36uYxY_UZ.mp4?tag=10'}, {'content_type': 'application/x-mpegURL', 'url': 'https://video.twimg.com/ext_tw_video/1248982749958078464/pu/pl/V3PA14pdVC2-EZ6d.m3u8?tag=10'}, {'bitrate': 832000, 'content_type': 'video/mp4', 'url': 'https://video.twimg.com/ext_tw_video/1248982749958078464/pu/vid/540x440/iUg2s6kYZESO7YKC.mp4?tag=10'}]}, 'additional_media_info': {'monetizable': False, 'source_user': {'id': 2258586354, 'id_str': '2258586354', 'name': 'LP-19', 'screen_name': 'ladyprospera', 'location': 'Monterrey, Nuevo León', 'description': 'Tengo 12 maravillosos hijos. El terror de todos los pasantes. Mi marido siempre me cuida. No pienso operarme para no tener familia. Aquí no se hacen memes.', 'url': 'https://t.co/NlEEmu5UT5', 'entities': {'url': {'urls': [{'url': 'https://t.co/NlEEmu5UT5', 'expanded_url': 'http://www.Instagram.com/ladyprospera', 'display_url': 'Instagram.com/ladyprospera', 'indices': [0, 23]}]}, 'description': {'urls': []}}, 'protected': False, 'followers_count': 9861, 'friends_count': 584, 'listed_count': 22, 'created_at': 'Mon Dec 23 07:09:34 +0000 2013', 'favourites_count': 104879, 'utc_offset': None, 'time_zone': None, 'geo_enabled': True, 'verified': False, 'statuses_count': 36407, 'lang': None, 'contributors_enabled': False, 'is_translator': False, 'is_translation_enabled': False, 'profile_background_color': 'C0DEED', 'profile_background_image_url': 'http://abs.twimg.com/images/themes/theme1/bg.png', 'profile_background_image_url_https': 'https://abs.twimg.com/images/themes/theme1/bg.png', 'profile_background_tile': False, 'profile_image_url': 'http://pbs.twimg.com/profile_images/1240027658848624640/vh_h02cO_normal.jpg', 'profile_image_url_https': 'https://pbs.twimg.com/profile_images/1240027658848624640/vh_h02cO_normal.jpg', 'profile_banner_url': 'https://pbs.twimg.com/profile_banners/2258586354/1581527370', 'profile_link_color': '1DA1F2', 'profile_sidebar_border_color': 'C0DEED', 'profile_sidebar_fill_color': 'DDEEF6', 'profile_text_color': '333333', 'profile_use_background_image': True, 'has_extended_profile': True, 'default_profile': True, 'default_profile_image': False, 'following': False, 'follow_request_sent': False, 'notifications': False, 'translator_type': 'none'}}}]}, source='Twitter for iPhone', source_url='http://twitter.com/download/iphone', in_reply_to_status_id=None, in_reply_to_status_id_str=None, in_reply_to_user_id=None, in_reply_to_user_id_str=None, in_reply_to_screen_name=None, author=User(_api=<tweepy.api.API object at 0x0000026A601ACB08>, _json={'id': 192008732, 'id_str': '192008732', 'name': 'Ilse Espino Barros', 'screen_name': 'ilseespino', 'location': 'Monterrey', 'description': 'Wanderlust.', 'url': 'https://t.co/ihVcjTG4X1', 'entities': {'url': {'urls': [{'url': 'https://t.co/ihVcjTG4X1', 'expanded_url': 'http://stop-foraminute.tumblr.com', 'display_url': 'stop-foraminute.tumblr.com', 'indices': [0, 23]}]}, 'description': {'urls': []}}, 'protected': False, 'followers_count': 306, 'friends_count': 345, 'listed_count': 3, 'created_at': 'Fri Sep 17 23:13:20 +0000 2010', 'favourites_count': 10268, 'utc_offset': None, 'time_zone': None, 'geo_enabled': True, 'verified': False, 'statuses_count': 7534, 'lang': None, 'contributors_enabled': False, 'is_translator': False, 'is_translation_enabled': False, 'profile_background_color': 'FFF04D', 'profile_background_image_url': 'http://abs.twimg.com/images/themes/theme19/bg.gif', 'profile_background_image_url_https': 'https://abs.twimg.com/images/themes/theme19/bg.gif', 'profile_background_tile': True, 'profile_image_url': 'http://pbs.twimg.com/profile_images/1237709669411565569/YtYAeFI7_normal.jpg', 'profile_image_url_https': 'https://pbs.twimg.com/profile_images/1237709669411565569/YtYAeFI7_normal.jpg', 'profile_banner_url': 'https://pbs.twimg.com/profile_banners/192008732/1348634787', 'profile_link_color': '63CC00', 'profile_sidebar_border_color': 'FFFFFF', 'profile_sidebar_fill_color': 'C5E9FA', 'profile_text_color': '050505', 'profile_use_background_image': True, 'has_extended_profile': False, 'default_profile': False, 'default_profile_image': False, 'following': False, 'follow_request_sent': False, 'notifications': False, 'translator_type': 'none'}, id=192008732, id_str='192008732', name='Ilse Espino Barros', screen_name='ilseespino', location='Monterrey', description='Wanderlust.', url='https://t.co/ihVcjTG4X1', entities={'url': {'urls': [{'url': 'https://t.co/ihVcjTG4X1', 'expanded_url': 'http://stop-foraminute.tumblr.com', 'display_url': 'stop-foraminute.tumblr.com', 'indices': [0, 23]}]}, 'description': {'urls': []}}, protected=False, followers_count=306, friends_count=345, listed_count=3, created_at=datetime.datetime(2010, 9, 17, 23, 13, 20), favourites_count=10268, utc_offset=None, time_zone=None, geo_enabled=True, verified=False, statuses_count=7534, lang=None, contributors_enabled=False, is_translator=False, is_translation_enabled=False, profile_background_color='FFF04D', profile_background_image_url='http://abs.twimg.com/images/themes/theme19/bg.gif', profile_background_image_url_https='https://abs.twimg.com/images/themes/theme19/bg.gif', profile_background_tile=True, profile_image_url='http://pbs.twimg.com/profile_images/1237709669411565569/YtYAeFI7_normal.jpg', profile_image_url_https='https://pbs.twimg.com/profile_images/1237709669411565569/YtYAeFI7_normal.jpg', profile_banner_url='https://pbs.twimg.com/profile_banners/192008732/1348634787', profile_link_color='63CC00', profile_sidebar_border_color='FFFFFF', profile_sidebar_fill_color='C5E9FA', profile_text_color='050505', profile_use_background_image=True, has_extended_profile=False, default_profile=False, default_profile_image=False, following=False, follow_request_sent=False, notifications=False, translator_type='none'), user=User(_api=<tweepy.api.API object at 0x0000026A601ACB08>, _json={'id': 192008732, 'id_str': '192008732', 'name': 'Ilse Espino Barros', 'screen_name': 'ilseespino', 'location': 'Monterrey', 'description': 'Wanderlust.', 'url': 'https://t.co/ihVcjTG4X1', 'entities': {'url': {'urls': [{'url': 'https://t.co/ihVcjTG4X1', 'expanded_url': 'http://stop-foraminute.tumblr.com', 'display_url': 'stop-foraminute.tumblr.com', 'indices': [0, 23]}]}, 'description': {'urls': []}}, 'protected': False, 'followers_count': 306, 'friends_count': 345, 'listed_count': 3, 'created_at': 'Fri Sep 17 23:13:20 +0000 2010', 'favourites_count': 10268, 'utc_offset': None, 'time_zone': None, 'geo_enabled': True, 'verified': False, 'statuses_count': 7534, 'lang': None, 'contributors_enabled': False, 'is_translator': False, 'is_translation_enabled': False, 'profile_background_color': 'FFF04D', 'profile_background_image_url': 'http://abs.twimg.com/images/themes/theme19/bg.gif', 'profile_background_image_url_https': 'https://abs.twimg.com/images/themes/theme19/bg.gif', 'profile_background_tile': True, 'profile_image_url': 'http://pbs.twimg.com/profile_images/1237709669411565569/YtYAeFI7_normal.jpg', 'profile_image_url_https': 'https://pbs.twimg.com/profile_images/1237709669411565569/YtYAeFI7_normal.jpg', 'profile_banner_url': 'https://pbs.twimg.com/profile_banners/192008732/1348634787', 'profile_link_color': '63CC00', 'profile_sidebar_border_color': 'FFFFFF', 'profile_sidebar_fill_color': 'C5E9FA', 'profile_text_color': '050505', 'profile_use_background_image': True, 'has_extended_profile': False, 'default_profile': False, 'default_profile_image': False, 'following': False, 'follow_request_sent': False, 'notifications': False, 'translator_type': 'none'}, id=192008732, id_str='192008732', name='Ilse Espino Barros', screen_name='ilseespino', location='Monterrey', description='Wanderlust.', url='https://t.co/ihVcjTG4X1', entities={'url': {'urls': [{'url': 'https://t.co/ihVcjTG4X1', 'expanded_url': 'http://stop-foraminute.tumblr.com', 'display_url': 'stop-foraminute.tumblr.com', 'indices': [0, 23]}]}, 'description': {'urls': []}}, protected=False, followers_count=306, friends_count=345, listed_count=3, created_at=datetime.datetime(2010, 9, 17, 23, 13, 20), favourites_count=10268, utc_offset=None, time_zone=None, geo_enabled=True, verified=False, statuses_count=7534, lang=None, contributors_enabled=False, is_translator=False, is_translation_enabled=False, profile_background_color='FFF04D', profile_background_image_url='http://abs.twimg.com/images/themes/theme19/bg.gif', profile_background_image_url_https='https://abs.twimg.com/images/themes/theme19/bg.gif', profile_background_tile=True, profile_image_url='http://pbs.twimg.com/profile_images/1237709669411565569/YtYAeFI7_normal.jpg', profile_image_url_https='https://pbs.twimg.com/profile_images/1237709669411565569/YtYAeFI7_normal.jpg', profile_banner_url='https://pbs.twimg.com/profile_banners/192008732/1348634787', profile_link_color='63CC00', profile_sidebar_border_color='FFFFFF', profile_sidebar_fill_color='C5E9FA', profile_text_color='050505', profile_use_background_image=True, has_extended_profile=False, default_profile=False, default_profile_image=False, following=False, follow_request_sent=False, notifications=False, translator_type='none'), geo=None, coordinates=None, place=None, contributors=None, retweeted_status=Status(_api=<tweepy.api.API object at 0x0000026A601ACB08>, _json={'created_at': 'Sat Apr 11 14:34:36 +0000 2020', 'id': 1248982788713439234, 'id_str': '1248982788713439234', 'text': '-Doctor, tiene que explicar de forma que la mayoría de la población entienda.\\n\\n-No se diga más: https://t.co/fVntiMBv03', 'truncated': False, 'entities': {'hashtags': [], 'symbols': [], 'user_mentions': [], 'urls': [], 'media': [{'id': 1248982749958078464, 'id_str': '1248982749958078464', 'indices': [96, 119], 'media_url': 'http://pbs.twimg.com/ext_tw_video_thumb/1248982749958078464/pu/img/ir_D5vk8Q2v1jM0n.jpg', 'media_url_https': 'https://pbs.twimg.com/ext_tw_video_thumb/1248982749958078464/pu/img/ir_D5vk8Q2v1jM0n.jpg', 'url': 'https://t.co/fVntiMBv03', 'display_url': 'pic.twitter.com/fVntiMBv03', 'expanded_url': 'https://twitter.com/ladyprospera/status/1248982788713439234/video/1', 'type': 'photo', 'sizes': {'thumb': {'w': 150, 'h': 150, 'resize': 'crop'}, 'medium': {'w': 540, 'h': 440, 'resize': 'fit'}, 'small': {'w': 540, 'h': 440, 'resize': 'fit'}, 'large': {'w': 540, 'h': 440, 'resize': 'fit'}}}]}, 'extended_entities': {'media': [{'id': 1248982749958078464, 'id_str': '1248982749958078464', 'indices': [96, 119], 'media_url': 'http://pbs.twimg.com/ext_tw_video_thumb/1248982749958078464/pu/img/ir_D5vk8Q2v1jM0n.jpg', 'media_url_https': 'https://pbs.twimg.com/ext_tw_video_thumb/1248982749958078464/pu/img/ir_D5vk8Q2v1jM0n.jpg', 'url': 'https://t.co/fVntiMBv03', 'display_url': 'pic.twitter.com/fVntiMBv03', 'expanded_url': 'https://twitter.com/ladyprospera/status/1248982788713439234/video/1', 'type': 'video', 'sizes': {'thumb': {'w': 150, 'h': 150, 'resize': 'crop'}, 'medium': {'w': 540, 'h': 440, 'resize': 'fit'}, 'small': {'w': 540, 'h': 440, 'resize': 'fit'}, 'large': {'w': 540, 'h': 440, 'resize': 'fit'}}, 'video_info': {'aspect_ratio': [27, 22], 'duration_millis': 6467, 'variants': [{'bitrate': 256000, 'content_type': 'video/mp4', 'url': 'https://video.twimg.com/ext_tw_video/1248982749958078464/pu/vid/330x270/bRX1Rod36uYxY_UZ.mp4?tag=10'}, {'content_type': 'application/x-mpegURL', 'url': 'https://video.twimg.com/ext_tw_video/1248982749958078464/pu/pl/V3PA14pdVC2-EZ6d.m3u8?tag=10'}, {'bitrate': 832000, 'content_type': 'video/mp4', 'url': 'https://video.twimg.com/ext_tw_video/1248982749958078464/pu/vid/540x440/iUg2s6kYZESO7YKC.mp4?tag=10'}]}, 'additional_media_info': {'monetizable': False}}]}, 'source': '<a href=\"http://twitter.com/download/iphone\" rel=\"nofollow\">Twitter for iPhone</a>', 'in_reply_to_status_id': None, 'in_reply_to_status_id_str': None, 'in_reply_to_user_id': None, 'in_reply_to_user_id_str': None, 'in_reply_to_screen_name': None, 'user': {'id': 2258586354, 'id_str': '2258586354', 'name': 'LP-19', 'screen_name': 'ladyprospera', 'location': 'Monterrey, Nuevo León', 'description': 'Tengo 12 maravillosos hijos. El terror de todos los pasantes. Mi marido siempre me cuida. No pienso operarme para no tener familia. Aquí no se hacen memes.', 'url': 'https://t.co/NlEEmu5UT5', 'entities': {'url': {'urls': [{'url': 'https://t.co/NlEEmu5UT5', 'expanded_url': 'http://www.Instagram.com/ladyprospera', 'display_url': 'Instagram.com/ladyprospera', 'indices': [0, 23]}]}, 'description': {'urls': []}}, 'protected': False, 'followers_count': 9861, 'friends_count': 584, 'listed_count': 22, 'created_at': 'Mon Dec 23 07:09:34 +0000 2013', 'favourites_count': 104879, 'utc_offset': None, 'time_zone': None, 'geo_enabled': True, 'verified': False, 'statuses_count': 36407, 'lang': None, 'contributors_enabled': False, 'is_translator': False, 'is_translation_enabled': False, 'profile_background_color': 'C0DEED', 'profile_background_image_url': 'http://abs.twimg.com/images/themes/theme1/bg.png', 'profile_background_image_url_https': 'https://abs.twimg.com/images/themes/theme1/bg.png', 'profile_background_tile': False, 'profile_image_url': 'http://pbs.twimg.com/profile_images/1240027658848624640/vh_h02cO_normal.jpg', 'profile_image_url_https': 'https://pbs.twimg.com/profile_images/1240027658848624640/vh_h02cO_normal.jpg', 'profile_banner_url': 'https://pbs.twimg.com/profile_banners/2258586354/1581527370', 'profile_link_color': '1DA1F2', 'profile_sidebar_border_color': 'C0DEED', 'profile_sidebar_fill_color': 'DDEEF6', 'profile_text_color': '333333', 'profile_use_background_image': True, 'has_extended_profile': True, 'default_profile': True, 'default_profile_image': False, 'following': False, 'follow_request_sent': False, 'notifications': False, 'translator_type': 'none'}, 'geo': None, 'coordinates': None, 'place': None, 'contributors': None, 'is_quote_status': False, 'retweet_count': 419, 'favorite_count': 1217, 'favorited': True, 'retweeted': True, 'possibly_sensitive': False, 'lang': 'es'}, created_at=datetime.datetime(2020, 4, 11, 14, 34, 36), id=1248982788713439234, id_str='1248982788713439234', text='-Doctor, tiene que explicar de forma que la mayoría de la población entienda.\\n\\n-No se diga más: https://t.co/fVntiMBv03', truncated=False, entities={'hashtags': [], 'symbols': [], 'user_mentions': [], 'urls': [], 'media': [{'id': 1248982749958078464, 'id_str': '1248982749958078464', 'indices': [96, 119], 'media_url': 'http://pbs.twimg.com/ext_tw_video_thumb/1248982749958078464/pu/img/ir_D5vk8Q2v1jM0n.jpg', 'media_url_https': 'https://pbs.twimg.com/ext_tw_video_thumb/1248982749958078464/pu/img/ir_D5vk8Q2v1jM0n.jpg', 'url': 'https://t.co/fVntiMBv03', 'display_url': 'pic.twitter.com/fVntiMBv03', 'expanded_url': 'https://twitter.com/ladyprospera/status/1248982788713439234/video/1', 'type': 'photo', 'sizes': {'thumb': {'w': 150, 'h': 150, 'resize': 'crop'}, 'medium': {'w': 540, 'h': 440, 'resize': 'fit'}, 'small': {'w': 540, 'h': 440, 'resize': 'fit'}, 'large': {'w': 540, 'h': 440, 'resize': 'fit'}}}]}, extended_entities={'media': [{'id': 1248982749958078464, 'id_str': '1248982749958078464', 'indices': [96, 119], 'media_url': 'http://pbs.twimg.com/ext_tw_video_thumb/1248982749958078464/pu/img/ir_D5vk8Q2v1jM0n.jpg', 'media_url_https': 'https://pbs.twimg.com/ext_tw_video_thumb/1248982749958078464/pu/img/ir_D5vk8Q2v1jM0n.jpg', 'url': 'https://t.co/fVntiMBv03', 'display_url': 'pic.twitter.com/fVntiMBv03', 'expanded_url': 'https://twitter.com/ladyprospera/status/1248982788713439234/video/1', 'type': 'video', 'sizes': {'thumb': {'w': 150, 'h': 150, 'resize': 'crop'}, 'medium': {'w': 540, 'h': 440, 'resize': 'fit'}, 'small': {'w': 540, 'h': 440, 'resize': 'fit'}, 'large': {'w': 540, 'h': 440, 'resize': 'fit'}}, 'video_info': {'aspect_ratio': [27, 22], 'duration_millis': 6467, 'variants': [{'bitrate': 256000, 'content_type': 'video/mp4', 'url': 'https://video.twimg.com/ext_tw_video/1248982749958078464/pu/vid/330x270/bRX1Rod36uYxY_UZ.mp4?tag=10'}, {'content_type': 'application/x-mpegURL', 'url': 'https://video.twimg.com/ext_tw_video/1248982749958078464/pu/pl/V3PA14pdVC2-EZ6d.m3u8?tag=10'}, {'bitrate': 832000, 'content_type': 'video/mp4', 'url': 'https://video.twimg.com/ext_tw_video/1248982749958078464/pu/vid/540x440/iUg2s6kYZESO7YKC.mp4?tag=10'}]}, 'additional_media_info': {'monetizable': False}}]}, source='Twitter for iPhone', source_url='http://twitter.com/download/iphone', in_reply_to_status_id=None, in_reply_to_status_id_str=None, in_reply_to_user_id=None, in_reply_to_user_id_str=None, in_reply_to_screen_name=None, author=User(_api=<tweepy.api.API object at 0x0000026A601ACB08>, _json={'id': 2258586354, 'id_str': '2258586354', 'name': 'LP-19', 'screen_name': 'ladyprospera', 'location': 'Monterrey, Nuevo León', 'description': 'Tengo 12 maravillosos hijos. El terror de todos los pasantes. Mi marido siempre me cuida. No pienso operarme para no tener familia. Aquí no se hacen memes.', 'url': 'https://t.co/NlEEmu5UT5', 'entities': {'url': {'urls': [{'url': 'https://t.co/NlEEmu5UT5', 'expanded_url': 'http://www.Instagram.com/ladyprospera', 'display_url': 'Instagram.com/ladyprospera', 'indices': [0, 23]}]}, 'description': {'urls': []}}, 'protected': False, 'followers_count': 9861, 'friends_count': 584, 'listed_count': 22, 'created_at': 'Mon Dec 23 07:09:34 +0000 2013', 'favourites_count': 104879, 'utc_offset': None, 'time_zone': None, 'geo_enabled': True, 'verified': False, 'statuses_count': 36407, 'lang': None, 'contributors_enabled': False, 'is_translator': False, 'is_translation_enabled': False, 'profile_background_color': 'C0DEED', 'profile_background_image_url': 'http://abs.twimg.com/images/themes/theme1/bg.png', 'profile_background_image_url_https': 'https://abs.twimg.com/images/themes/theme1/bg.png', 'profile_background_tile': False, 'profile_image_url': 'http://pbs.twimg.com/profile_images/1240027658848624640/vh_h02cO_normal.jpg', 'profile_image_url_https': 'https://pbs.twimg.com/profile_images/1240027658848624640/vh_h02cO_normal.jpg', 'profile_banner_url': 'https://pbs.twimg.com/profile_banners/2258586354/1581527370', 'profile_link_color': '1DA1F2', 'profile_sidebar_border_color': 'C0DEED', 'profile_sidebar_fill_color': 'DDEEF6', 'profile_text_color': '333333', 'profile_use_background_image': True, 'has_extended_profile': True, 'default_profile': True, 'default_profile_image': False, 'following': False, 'follow_request_sent': False, 'notifications': False, 'translator_type': 'none'}, id=2258586354, id_str='2258586354', name='LP-19', screen_name='ladyprospera', location='Monterrey, Nuevo León', description='Tengo 12 maravillosos hijos. El terror de todos los pasantes. Mi marido siempre me cuida. No pienso operarme para no tener familia. Aquí no se hacen memes.', url='https://t.co/NlEEmu5UT5', entities={'url': {'urls': [{'url': 'https://t.co/NlEEmu5UT5', 'expanded_url': 'http://www.Instagram.com/ladyprospera', 'display_url': 'Instagram.com/ladyprospera', 'indices': [0, 23]}]}, 'description': {'urls': []}}, protected=False, followers_count=9861, friends_count=584, listed_count=22, created_at=datetime.datetime(2013, 12, 23, 7, 9, 34), favourites_count=104879, utc_offset=None, time_zone=None, geo_enabled=True, verified=False, statuses_count=36407, lang=None, contributors_enabled=False, is_translator=False, is_translation_enabled=False, profile_background_color='C0DEED', profile_background_image_url='http://abs.twimg.com/images/themes/theme1/bg.png', profile_background_image_url_https='https://abs.twimg.com/images/themes/theme1/bg.png', profile_background_tile=False, profile_image_url='http://pbs.twimg.com/profile_images/1240027658848624640/vh_h02cO_normal.jpg', profile_image_url_https='https://pbs.twimg.com/profile_images/1240027658848624640/vh_h02cO_normal.jpg', profile_banner_url='https://pbs.twimg.com/profile_banners/2258586354/1581527370', profile_link_color='1DA1F2', profile_sidebar_border_color='C0DEED', profile_sidebar_fill_color='DDEEF6', profile_text_color='333333', profile_use_background_image=True, has_extended_profile=True, default_profile=True, default_profile_image=False, following=False, follow_request_sent=False, notifications=False, translator_type='none'), user=User(_api=<tweepy.api.API object at 0x0000026A601ACB08>, _json={'id': 2258586354, 'id_str': '2258586354', 'name': 'LP-19', 'screen_name': 'ladyprospera', 'location': 'Monterrey, Nuevo León', 'description': 'Tengo 12 maravillosos hijos. El terror de todos los pasantes. Mi marido siempre me cuida. No pienso operarme para no tener familia. Aquí no se hacen memes.', 'url': 'https://t.co/NlEEmu5UT5', 'entities': {'url': {'urls': [{'url': 'https://t.co/NlEEmu5UT5', 'expanded_url': 'http://www.Instagram.com/ladyprospera', 'display_url': 'Instagram.com/ladyprospera', 'indices': [0, 23]}]}, 'description': {'urls': []}}, 'protected': False, 'followers_count': 9861, 'friends_count': 584, 'listed_count': 22, 'created_at': 'Mon Dec 23 07:09:34 +0000 2013', 'favourites_count': 104879, 'utc_offset': None, 'time_zone': None, 'geo_enabled': True, 'verified': False, 'statuses_count': 36407, 'lang': None, 'contributors_enabled': False, 'is_translator': False, 'is_translation_enabled': False, 'profile_background_color': 'C0DEED', 'profile_background_image_url': 'http://abs.twimg.com/images/themes/theme1/bg.png', 'profile_background_image_url_https': 'https://abs.twimg.com/images/themes/theme1/bg.png', 'profile_background_tile': False, 'profile_image_url': 'http://pbs.twimg.com/profile_images/1240027658848624640/vh_h02cO_normal.jpg', 'profile_image_url_https': 'https://pbs.twimg.com/profile_images/1240027658848624640/vh_h02cO_normal.jpg', 'profile_banner_url': 'https://pbs.twimg.com/profile_banners/2258586354/1581527370', 'profile_link_color': '1DA1F2', 'profile_sidebar_border_color': 'C0DEED', 'profile_sidebar_fill_color': 'DDEEF6', 'profile_text_color': '333333', 'profile_use_background_image': True, 'has_extended_profile': True, 'default_profile': True, 'default_profile_image': False, 'following': False, 'follow_request_sent': False, 'notifications': False, 'translator_type': 'none'}, id=2258586354, id_str='2258586354', name='LP-19', screen_name='ladyprospera', location='Monterrey, Nuevo León', description='Tengo 12 maravillosos hijos. El terror de todos los pasantes. Mi marido siempre me cuida. No pienso operarme para no tener familia. Aquí no se hacen memes.', url='https://t.co/NlEEmu5UT5', entities={'url': {'urls': [{'url': 'https://t.co/NlEEmu5UT5', 'expanded_url': 'http://www.Instagram.com/ladyprospera', 'display_url': 'Instagram.com/ladyprospera', 'indices': [0, 23]}]}, 'description': {'urls': []}}, protected=False, followers_count=9861, friends_count=584, listed_count=22, created_at=datetime.datetime(2013, 12, 23, 7, 9, 34), favourites_count=104879, utc_offset=None, time_zone=None, geo_enabled=True, verified=False, statuses_count=36407, lang=None, contributors_enabled=False, is_translator=False, is_translation_enabled=False, profile_background_color='C0DEED', profile_background_image_url='http://abs.twimg.com/images/themes/theme1/bg.png', profile_background_image_url_https='https://abs.twimg.com/images/themes/theme1/bg.png', profile_background_tile=False, profile_image_url='http://pbs.twimg.com/profile_images/1240027658848624640/vh_h02cO_normal.jpg', profile_image_url_https='https://pbs.twimg.com/profile_images/1240027658848624640/vh_h02cO_normal.jpg', profile_banner_url='https://pbs.twimg.com/profile_banners/2258586354/1581527370', profile_link_color='1DA1F2', profile_sidebar_border_color='C0DEED', profile_sidebar_fill_color='DDEEF6', profile_text_color='333333', profile_use_background_image=True, has_extended_profile=True, default_profile=True, default_profile_image=False, following=False, follow_request_sent=False, notifications=False, translator_type='none'), geo=None, coordinates=None, place=None, contributors=None, is_quote_status=False, retweet_count=419, favorite_count=1217, favorited=True, retweeted=True, possibly_sensitive=False, lang='es'), is_quote_status=False, retweet_count=419, favorite_count=0, favorited=True, retweeted=True, possibly_sensitive=False, lang='es')"
      ]
     },
     "execution_count": 31,
     "metadata": {},
     "output_type": "execute_result"
    }
   ],
   "source": [
    "user[0]"
   ]
  },
  {
   "cell_type": "code",
   "execution_count": 32,
   "metadata": {},
   "outputs": [
    {
     "data": {
      "text/html": [
       "<div>\n",
       "<style scoped>\n",
       "    .dataframe tbody tr th:only-of-type {\n",
       "        vertical-align: middle;\n",
       "    }\n",
       "\n",
       "    .dataframe tbody tr th {\n",
       "        vertical-align: top;\n",
       "    }\n",
       "\n",
       "    .dataframe thead th {\n",
       "        text-align: right;\n",
       "    }\n",
       "</style>\n",
       "<table border=\"1\" class=\"dataframe\">\n",
       "  <thead>\n",
       "    <tr style=\"text-align: right;\">\n",
       "      <th></th>\n",
       "      <th>0</th>\n",
       "    </tr>\n",
       "  </thead>\n",
       "  <tbody>\n",
       "    <tr>\n",
       "      <th>0</th>\n",
       "      <td>Status(_api=&lt;tweepy.api.API object at 0x000002...</td>\n",
       "    </tr>\n",
       "    <tr>\n",
       "      <th>1</th>\n",
       "      <td>Status(_api=&lt;tweepy.api.API object at 0x000002...</td>\n",
       "    </tr>\n",
       "    <tr>\n",
       "      <th>2</th>\n",
       "      <td>Status(_api=&lt;tweepy.api.API object at 0x000002...</td>\n",
       "    </tr>\n",
       "    <tr>\n",
       "      <th>3</th>\n",
       "      <td>Status(_api=&lt;tweepy.api.API object at 0x000002...</td>\n",
       "    </tr>\n",
       "    <tr>\n",
       "      <th>4</th>\n",
       "      <td>Status(_api=&lt;tweepy.api.API object at 0x000002...</td>\n",
       "    </tr>\n",
       "    <tr>\n",
       "      <th>5</th>\n",
       "      <td>Status(_api=&lt;tweepy.api.API object at 0x000002...</td>\n",
       "    </tr>\n",
       "    <tr>\n",
       "      <th>6</th>\n",
       "      <td>Status(_api=&lt;tweepy.api.API object at 0x000002...</td>\n",
       "    </tr>\n",
       "    <tr>\n",
       "      <th>7</th>\n",
       "      <td>Status(_api=&lt;tweepy.api.API object at 0x000002...</td>\n",
       "    </tr>\n",
       "    <tr>\n",
       "      <th>8</th>\n",
       "      <td>Status(_api=&lt;tweepy.api.API object at 0x000002...</td>\n",
       "    </tr>\n",
       "    <tr>\n",
       "      <th>9</th>\n",
       "      <td>Status(_api=&lt;tweepy.api.API object at 0x000002...</td>\n",
       "    </tr>\n",
       "    <tr>\n",
       "      <th>10</th>\n",
       "      <td>Status(_api=&lt;tweepy.api.API object at 0x000002...</td>\n",
       "    </tr>\n",
       "    <tr>\n",
       "      <th>11</th>\n",
       "      <td>Status(_api=&lt;tweepy.api.API object at 0x000002...</td>\n",
       "    </tr>\n",
       "    <tr>\n",
       "      <th>12</th>\n",
       "      <td>Status(_api=&lt;tweepy.api.API object at 0x000002...</td>\n",
       "    </tr>\n",
       "    <tr>\n",
       "      <th>13</th>\n",
       "      <td>Status(_api=&lt;tweepy.api.API object at 0x000002...</td>\n",
       "    </tr>\n",
       "    <tr>\n",
       "      <th>14</th>\n",
       "      <td>Status(_api=&lt;tweepy.api.API object at 0x000002...</td>\n",
       "    </tr>\n",
       "    <tr>\n",
       "      <th>15</th>\n",
       "      <td>Status(_api=&lt;tweepy.api.API object at 0x000002...</td>\n",
       "    </tr>\n",
       "    <tr>\n",
       "      <th>16</th>\n",
       "      <td>Status(_api=&lt;tweepy.api.API object at 0x000002...</td>\n",
       "    </tr>\n",
       "    <tr>\n",
       "      <th>17</th>\n",
       "      <td>Status(_api=&lt;tweepy.api.API object at 0x000002...</td>\n",
       "    </tr>\n",
       "    <tr>\n",
       "      <th>18</th>\n",
       "      <td>Status(_api=&lt;tweepy.api.API object at 0x000002...</td>\n",
       "    </tr>\n",
       "  </tbody>\n",
       "</table>\n",
       "</div>"
      ],
      "text/plain": [
       "                                                    0\n",
       "0   Status(_api=<tweepy.api.API object at 0x000002...\n",
       "1   Status(_api=<tweepy.api.API object at 0x000002...\n",
       "2   Status(_api=<tweepy.api.API object at 0x000002...\n",
       "3   Status(_api=<tweepy.api.API object at 0x000002...\n",
       "4   Status(_api=<tweepy.api.API object at 0x000002...\n",
       "5   Status(_api=<tweepy.api.API object at 0x000002...\n",
       "6   Status(_api=<tweepy.api.API object at 0x000002...\n",
       "7   Status(_api=<tweepy.api.API object at 0x000002...\n",
       "8   Status(_api=<tweepy.api.API object at 0x000002...\n",
       "9   Status(_api=<tweepy.api.API object at 0x000002...\n",
       "10  Status(_api=<tweepy.api.API object at 0x000002...\n",
       "11  Status(_api=<tweepy.api.API object at 0x000002...\n",
       "12  Status(_api=<tweepy.api.API object at 0x000002...\n",
       "13  Status(_api=<tweepy.api.API object at 0x000002...\n",
       "14  Status(_api=<tweepy.api.API object at 0x000002...\n",
       "15  Status(_api=<tweepy.api.API object at 0x000002...\n",
       "16  Status(_api=<tweepy.api.API object at 0x000002...\n",
       "17  Status(_api=<tweepy.api.API object at 0x000002...\n",
       "18  Status(_api=<tweepy.api.API object at 0x000002..."
      ]
     },
     "execution_count": 32,
     "metadata": {},
     "output_type": "execute_result"
    }
   ],
   "source": [
    "pd.DataFrame(user)"
   ]
  },
  {
   "cell_type": "code",
   "execution_count": null,
   "metadata": {},
   "outputs": [],
   "source": [
    "api."
   ]
  }
 ],
 "metadata": {
  "kernelspec": {
   "display_name": "Python 3",
   "language": "python",
   "name": "python3"
  },
  "language_info": {
   "codemirror_mode": {
    "name": "ipython",
    "version": 3
   },
   "file_extension": ".py",
   "mimetype": "text/x-python",
   "name": "python",
   "nbconvert_exporter": "python",
   "pygments_lexer": "ipython3",
   "version": "3.7.6"
  }
 },
 "nbformat": 4,
 "nbformat_minor": 4
}
