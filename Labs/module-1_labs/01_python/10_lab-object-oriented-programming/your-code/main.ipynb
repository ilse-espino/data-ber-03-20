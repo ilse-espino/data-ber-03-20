{
 "cells": [
  {
   "cell_type": "markdown",
   "metadata": {},
   "source": [
    "# Before your start:\n",
    "- Read the README.md file\n",
    "- Comment as much as you can and use the resources in the README.md file\n",
    "- Happy learning!"
   ]
  },
  {
   "cell_type": "markdown",
   "metadata": {},
   "source": [
    "# Challenge 1 - Matrix Functions\n",
    "\n",
    "#### We would like to create our own matrix. To make life simple for us, we can represent matrices as a list of lists. For the sake of simplicity, we will assume that the maximum number of dimensions a matrix will have is 2.\n",
    "\n",
    "The most basic thing we would like to do with two matrices is to add them together. To do this, we must compare their size. We should check whether two matrices have the same number of rows and the same number of columns. We compare the number of rows by looking at the outer list and then check the inner lists to see that they are of the same length as well. Our first function will be to check that our matrix is 2 dimensional. We will perform this check by raising an error for any case except a two dimensional matrix."
   ]
  },
  {
   "cell_type": "code",
   "execution_count": 64,
   "metadata": {},
   "outputs": [],
   "source": [
    "def twodim(mat):\n",
    "    # This function takes a list of lists and checks that it is of depth 2. \n",
    "    # If the depth is not 2, either return false or return informative errors that let the user know the depth of the list.\n",
    "    # Input: nested list\n",
    "    # Output: Boolean (or error)\n",
    "    # Sample Input: [[1,2,3], [4,5,6]]\n",
    "    # Sample Output: True\n",
    "    \n",
    "    # Your Code Here:\n",
    "    \n",
    "    if type(mat) != list:\n",
    "        raise ValueError(\"The variable is not a list\")\n",
    "    for i in mat:\n",
    "        if type(i) != list:\n",
    "            raise ValueError(\"The matrix is only one dimensional\")\n",
    "        for j in i:\n",
    "            if type(j) == list:\n",
    "                raise ValueError(\"The matrix is more than two dimensional\")\n",
    "    return True\n",
    "    \n",
    "    \n",
    "    \n",
    "#if not isinstance(mat, list):\n",
    "#        raise ValueError(\"The variable is not a list\")\n",
    "#    for l in mat:\n",
    "#        if not isinstance(l, list):\n",
    "#            raise ValueError(\"The matrix is only one dimensional\")\n",
    "#        for i in l:\n",
    "#            if isinstance(i, list):\n",
    "#                raise ValueError(\"The matrix is more than two dimensional\")\n",
    "#    return True\n",
    "    \n",
    "    "
   ]
  },
  {
   "cell_type": "code",
   "execution_count": 65,
   "metadata": {},
   "outputs": [
    {
     "name": "stdout",
     "output_type": "stream",
     "text": [
      "True\n"
     ]
    }
   ],
   "source": [
    "print(twodim([[1,2], [1,2,3],[1,2,3]]))\n",
    "\n",
    "#print(twodim([[1,2,3], [4,5,6]]))\n",
    "#print(twodim([[[1],2,[3]], [4,5,6]]))\n",
    "#print(twodim([1,2,3, 4,5,6]))\n",
    "\n",
    "\n",
    "#a= [[1,2], [[1],2,3],[1,2,3]]\n",
    "#for i in a:\n",
    "#    print(i)\n",
    "#    for j in i:\n",
    "#        print(j, type(j))"
   ]
  },
  {
   "cell_type": "markdown",
   "metadata": {},
   "source": [
    "# Bonus Challenge 1 - Write the function recursively\n",
    "\n",
    "Rewrite the `twodim` function using recursion. \n",
    "Read more about recursion [here](https://www.cs.utah.edu/~germain/PPS/Topics/recursion.html)\n",
    "\n",
    "Hint: stop your recursion when there are no more lists, this wil be the depth of your matrix. Check that this depth is equal to 2.\n",
    "Second Hint: At every level of the recursion, use the filter function to keep only the members of the list that are lists."
   ]
  },
  {
   "cell_type": "code",
   "execution_count": 15,
   "metadata": {},
   "outputs": [],
   "source": [
    "def twodimrecursive(mat):\n",
    "##SOLUTION\n",
    "    def dimension(mat):\n",
    "        #If there isn't any list inside mat, returns 1 dimension\n",
    "        if not any(isinstance(item, list) for item in mat):\n",
    "            return 1\n",
    "        else:\n",
    "            return 1 + max([dimension(item) for item in filter(lambda x: isinstance(x, list), mat)])\n",
    "    return dimension(mat) == 2\n",
    "\n",
    "    # Your code here:\n",
    "    \n",
    "#    def dimension(mat):\n",
    "#        if not any(type(i) == list for i in mat):\n",
    "#            return 1\n",
    "#        else:\n",
    "#            return 1 + max([dimension(item) for item in filter(lambda x: type(x) == list, mat)])\n",
    "\n",
    "    "
   ]
  },
  {
   "cell_type": "code",
   "execution_count": 16,
   "metadata": {},
   "outputs": [
    {
     "data": {
      "text/plain": [
       "True"
      ]
     },
     "execution_count": 16,
     "metadata": {},
     "output_type": "execute_result"
    }
   ],
   "source": [
    "twodimrecursive([[1,2,3],[1,2]])"
   ]
  },
  {
   "cell_type": "markdown",
   "metadata": {},
   "source": [
    "#### Next, we will write a function that checks for the number of rows and columns of a matrix. \n",
    "\n",
    "Recall that the outer list will tell us the number of rows and the inner lists will tell us the number of columns. Make sure that all inner lists are of the same length."
   ]
  },
  {
   "cell_type": "code",
   "execution_count": 66,
   "metadata": {},
   "outputs": [
    {
     "data": {
      "text/plain": [
       "(2, 3)"
      ]
     },
     "execution_count": 66,
     "metadata": {},
     "output_type": "execute_result"
    }
   ],
   "source": [
    "def rowcolumn(mat):\n",
    "    # This function takes a list of lists and returns the size of the rows and the columns \n",
    "    # Input: list of lists\n",
    "    # Output: Tuple of rows and columns\n",
    "    #\n",
    "    # Sample input: [[1,2,3],[4,5,6]]\n",
    "    # Sample Output: (2, 3)\n",
    "    \n",
    "    # Your code here:\n",
    "    if twodim(mat):\n",
    "        rows = 0\n",
    "        columns = 0\n",
    "        len_i = len(mat[0])\n",
    "        for i in mat:\n",
    "            rows += 1\n",
    "            if len_i != len(i):\n",
    "                raise ValueError (\"Not equal number of columns\")\n",
    "        columns = len_i    \n",
    "        return (rows, columns)\n",
    "    \n",
    "rowcolumn([[1,2,3],[4,5,6]])\n",
    "\n",
    "\n",
    "## SOLUTION\n",
    "\n",
    "#    if twodim(mat):\n",
    "#        row = len(mat)\n",
    "#        col = len(mat[0])\n",
    "#        for m in mat:\n",
    "#            if len(m) != col:\n",
    "#                raise ValueError(\"The columns are not of equal length\")\n",
    "#        return row, col"
   ]
  },
  {
   "cell_type": "code",
   "execution_count": 67,
   "metadata": {},
   "outputs": [
    {
     "data": {
      "text/plain": [
       "(3, 4)"
      ]
     },
     "execution_count": 67,
     "metadata": {},
     "output_type": "execute_result"
    }
   ],
   "source": [
    "rowcolumn([[1,2,3,4], [1,2,3,4],[1,2,3,4]])"
   ]
  },
  {
   "cell_type": "markdown",
   "metadata": {},
   "source": [
    "#### Our next step is to write a function that compares two matrices and tells us whether they are of equal size.\n",
    "\n",
    "In this function we will check whether the number of rows and number of columns is the same."
   ]
  },
  {
   "cell_type": "code",
   "execution_count": 48,
   "metadata": {},
   "outputs": [],
   "source": [
    "def compare(mat1, mat2):\n",
    "    # This function takes a two lists of lists and checks whether they have the same number of rows and columns\n",
    "    # Input: two list of lists\n",
    "    # Output: True or False\n",
    "    #\n",
    "    # Sample input: [[1,2,3],[4,5,6]], [[7,8,9], [10,11,12]]\n",
    "    # Sample Output: True\n",
    "    \n",
    "    # Your code here:\n",
    "    if rowcolumn(mat1) == rowcolumn(mat2):\n",
    "        return True\n",
    "    return False\n",
    "\n",
    "#SOLUTION\n",
    "#return rowcolumn(mat1) == rowcolumn(mat2)\n",
    "    "
   ]
  },
  {
   "cell_type": "code",
   "execution_count": 50,
   "metadata": {},
   "outputs": [
    {
     "data": {
      "text/plain": [
       "True"
      ]
     },
     "execution_count": 50,
     "metadata": {},
     "output_type": "execute_result"
    }
   ],
   "source": [
    "compare([[1,2,3],[4,5,6]], [[7,8,9], [10,11,12]])"
   ]
  },
  {
   "cell_type": "markdown",
   "metadata": {},
   "source": [
    "#### Now that we have all the tools we need, write a function that adds two matrices together. \n",
    "\n",
    "Remember that a matrix is represented as a list of lists. Therefore, we must add each element in the list. The plus symbol is used for concatenating two lists and not for adding every element in two lists."
   ]
  },
  {
   "cell_type": "code",
   "execution_count": 61,
   "metadata": {},
   "outputs": [
    {
     "data": {
      "text/plain": [
       "[[8, 10, 12], [14, 16, 18]]"
      ]
     },
     "execution_count": 61,
     "metadata": {},
     "output_type": "execute_result"
    }
   ],
   "source": [
    "def addition(mat1, mat2):\n",
    "    # This function takes a two lists of lists and adds each cell together\n",
    "    # Input: two list of lists\n",
    "    # Output: one summed list of lists\n",
    "    #\n",
    "    # Sample input: [[1,2,3],[4,5,6]], [[7,8,9], [10,11,12]]\n",
    "    # Sample Output: [[8,10,12],[14,16,18]]\n",
    "    \n",
    "    # Your code here:\n",
    "    \n",
    "#    if compare(mat1,mat2):\n",
    "#        rows = rowcolumn(mat1)[0]\n",
    "#        columns = rowcolumn(mat1)[1]\n",
    "#    lst = []\n",
    "#    for i in range(rows):\n",
    "#        for j in range(columns):\n",
    "#            lst.append(mat1[i][j] + mat2[i][j])\n",
    "#    return lst    \n",
    "\n",
    "    result = []\n",
    "    if compare(mat1, mat2):\n",
    "        for i in range(len(mat1)):\n",
    "            result.append([])\n",
    "            for j in range(len(mat1[i])):\n",
    "                result[i].append(mat1[i][j] + mat2[i][j])\n",
    "    return result\n",
    "\n",
    "\n",
    "\n",
    "addition([[1,2,3],[4,5,6]], [[7,8,9], [10,11,12]])\n",
    "    "
   ]
  },
  {
   "cell_type": "code",
   "execution_count": 62,
   "metadata": {},
   "outputs": [
    {
     "data": {
      "text/plain": [
       "[[8, 10, 12], [14, 16, 18]]"
      ]
     },
     "execution_count": 62,
     "metadata": {},
     "output_type": "execute_result"
    }
   ],
   "source": [
    "addition([[1,2,3],[4,5,6]], [[7,8,9], [10,11,12]])"
   ]
  },
  {
   "cell_type": "markdown",
   "metadata": {},
   "source": [
    "# Challenge 2 - Creating the Class\n",
    "\n",
    "In the cell below, you will be creating the class Matrix2D. Use the functions you have written above and tweak them according to the instructions in the comments. You got this!"
   ]
  },
  {
   "cell_type": "code",
   "execution_count": 68,
   "metadata": {},
   "outputs": [],
   "source": [
    "class Matrix2D:\n",
    "    # First, we will write the __init__ function. \n",
    "    # In this function, we will initialize rows and the columns using the matrix that we have passed to the class.\n",
    "    \n",
    "    def __init__(self, mat):\n",
    "        # Assign mat to self.mat\n",
    "        # Assign rows and cols to self.rows and self.cols\n",
    "        # To find the rows and the cols, use the rowcolumn function and pass self.mat to the function.\n",
    "        # Since the rowcolumn function is now a member of the class, make sure to refer to the function as self.rowcolumn\n",
    "        \n",
    "        # Your code here:\n",
    "        self.mat = mat\n",
    "        self.rows, self.cols = self.rowcolumn(self.mat)\n",
    "        \n",
    "    \n",
    "    \n",
    "    # Insert the twodim function here.\n",
    "    # The only change you need to make is that now we are passing self and mat to the function (make sure self is first).\n",
    "    \n",
    "    # Your code here:\n",
    "    def twodim(self, mat):\n",
    "    \n",
    "        if type(mat) != list:\n",
    "            raise ValueError(\"The variable is not a list\")\n",
    "        for i in mat:\n",
    "            if type(i) != list:\n",
    "                raise ValueError(\"The matrix is only one dimensional\")\n",
    "            for j in i:\n",
    "                if type(j) == list:\n",
    "                    raise ValueError(\"The matrix is more than two dimensional\")\n",
    "        return True\n",
    "    \n",
    "    # Insert the rowcolumn function here.\n",
    "    # The changes you need to make: \n",
    "    # 1. The function now takes self and mat as arguments (make sure to pass self first).\n",
    "    # 2. Any reference to twodim will be changed to self.twodim since this function is a member of the class and takes self \n",
    "    \n",
    "    # Your code here:\n",
    "    def rowcolumn(self, mat):\n",
    "        if self.twodim(mat):\n",
    "            rows = 0\n",
    "            columns = 0\n",
    "            len_i = len(mat[0])\n",
    "            for i in mat:\n",
    "                rows += 1\n",
    "                if len_i != len(i):\n",
    "                    raise ValueError (\"Not equal number of columns\")\n",
    "            columns = len_i    \n",
    "            return (rows, columns)\n",
    "\n",
    "    \n",
    "    # Insert the compare function here\n",
    "    # Add self as the first argument passed to the function\n",
    "    \n",
    "    # Your code here:\n",
    "    def compare(self, mat1, mat2):\n",
    "        if self.rowcolumn(mat1) == self.rowcolumn(mat2):\n",
    "            return True\n",
    "        return False\n",
    "\n",
    "\n",
    "    # Insert the addition function here\n",
    "    # This function now takes self and matrix (another matrix of the Matrix2D class)\n",
    "    # Change the compare function to self.compare \n",
    "    # Change any reference to mat1 and mat2 to self.mat and matrix.mat respectively\n",
    "    # Return your result as a Matrix2D(result). This will ensure that we return a new matrix and not a list of lists.\n",
    "    \n",
    "    # Your code here:\n",
    "    \n",
    "    def addition(self, matrix):\n",
    "        result = []\n",
    "        if self.compare(self.mat, matrix.mat):\n",
    "            for i in range(len(self.mat)):\n",
    "                result.append([])\n",
    "                for j in range(len(self.mat[i])):\n",
    "                    result[i].append(self.mat[i][j] + matrix.mat[i][j])\n",
    "        return Matrix2D(result)\n"
   ]
  },
  {
   "cell_type": "code",
   "execution_count": 69,
   "metadata": {},
   "outputs": [
    {
     "data": {
      "text/plain": [
       "[[8, 10, 12], [14, 16, 18]]"
      ]
     },
     "execution_count": 69,
     "metadata": {},
     "output_type": "execute_result"
    }
   ],
   "source": [
    "Matrix2D([[1,2,3],[4,5,6]]).addition(Matrix2D([[7,8,9],[10,11,12]])).mat"
   ]
  },
  {
   "cell_type": "markdown",
   "metadata": {},
   "source": [
    "# Bonus Challenge 2 - Transpose Function\n",
    "\n",
    "#### Write a function that transposes the matrix and add it to your class.\n",
    "\n",
    "You can read more about the transpose of a matrix [here](https://en.wikipedia.org/wiki/Transpose).\n",
    "\n",
    "Hint: Use the zip function. Read about it [here](https://docs.python.org/3.3/library/functions.html#zip)\n",
    "\n",
    "Second Hint: Read about the asterisk in Python [here](https://docs.python.org/3/reference/expressions.html#expression-lists)"
   ]
  },
  {
   "cell_type": "code",
   "execution_count": 77,
   "metadata": {},
   "outputs": [],
   "source": [
    "def transpose(mat):\n",
    "    # This function takes a list of lists and returns a transposed list of lists.\n",
    "    # Input: list of lists\n",
    "    # Output: list of lists\n",
    "    \n",
    "    # Sample Input: [[1,2,3],[4,5,6]]\n",
    "    # Sample Output: [[1,4], [2,5], [3,6]]\n",
    "    \n",
    "    # Your code here:\n",
    "    \n",
    "    ## SOLUTION\n",
    "    return[list(i) for i in zip(*mat)]\n",
    "\n",
    "#zipped = zip([1,2,3],[4,5,6])\n",
    "#for i in zipped:\n",
    "#    print(i)\n",
    "\n",
    "#mat = [[1,2,3],[4,5,6]]\n",
    "#print(*mat)"
   ]
  },
  {
   "cell_type": "code",
   "execution_count": 78,
   "metadata": {},
   "outputs": [
    {
     "data": {
      "text/plain": [
       "[[1, 4], [2, 5], [3, 6]]"
      ]
     },
     "execution_count": 78,
     "metadata": {},
     "output_type": "execute_result"
    }
   ],
   "source": [
    "transpose([[1,2,3],[4,5,6]])"
   ]
  },
  {
   "cell_type": "code",
   "execution_count": null,
   "metadata": {},
   "outputs": [],
   "source": []
  }
 ],
 "metadata": {
  "kernelspec": {
   "display_name": "Python 3",
   "language": "python",
   "name": "python3"
  },
  "language_info": {
   "codemirror_mode": {
    "name": "ipython",
    "version": 3
   },
   "file_extension": ".py",
   "mimetype": "text/x-python",
   "name": "python",
   "nbconvert_exporter": "python",
   "pygments_lexer": "ipython3",
   "version": "3.7.6"
  }
 },
 "nbformat": 4,
 "nbformat_minor": 2
}
