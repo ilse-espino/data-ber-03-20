{
 "cells": [
  {
   "cell_type": "markdown",
   "metadata": {},
   "source": [
    "In the cell below, create a Python function that wraps your previous solution for the Bag of Words lab.\n",
    "\n",
    "Requirements:\n",
    "\n",
    "1. Your function should accept the following parameters:\n",
    "    * `docs` [REQUIRED] - array of document paths.\n",
    "    * `stop_words` [OPTIONAL] - array of stop words. The default value is an empty array.\n",
    "\n",
    "1. Your function should return a Python object that contains the following:\n",
    "    * `bag_of_words` - array of strings of normalized unique words in the corpus.\n",
    "    * `term_freq` - array of the term-frequency vectors."
   ]
  },
  {
   "cell_type": "code",
   "execution_count": 31,
   "metadata": {},
   "outputs": [],
   "source": [
    "# Import required libraries\n",
    "from string import punctuation\n",
    "\n",
    "# Define function\n",
    "def get_bow_from_docs(docs, stop_words=[]):\n",
    "    \n",
    "    # In the function, first define the variables you will use such as `corpus`, `bag_of_words`, and `term_freq`.\n",
    "    \n",
    "    corpus = []\n",
    "    bag_of_words = []\n",
    "    term_freq = []\n",
    "    \n",
    "    \"\"\"\n",
    "    Loop `docs` and read the content of each doc into a string in `corpus`.\n",
    "    Remember to convert the doc content to lowercases and remove punctuation.\n",
    "    \"\"\"\n",
    "\n",
    "    for i in docs:\n",
    "        strings = open(i,\"r\")\n",
    "        words = strings.read()\n",
    "        words = ''.join(char for char in words if char not in punctuation)\n",
    "        corpus.append(words.lower())\n",
    "    \n",
    "    \"\"\"\n",
    "    Loop `corpus`. Append the terms in each doc into the `bag_of_words` array. The terms in `bag_of_words` \n",
    "    should be unique which means before adding each term you need to check if it's already added to the array.\n",
    "    In addition, check if each term is in the `stop_words` array. Only append the term to `bag_of_words`\n",
    "    if it is not a stop word.\n",
    "    \"\"\"\n",
    "    \n",
    "    for i in corpus:\n",
    "        words = i.split()\n",
    "        for j in words:\n",
    "            if (j not in bag_of_words) and (j not in stop_words):\n",
    "                bag_of_words.append(j)   \n",
    "                \n",
    "                \n",
    "    \n",
    "    \"\"\"\n",
    "    Loop `corpus` again. For each doc string, count the number of occurrences of each term in `bag_of_words`. \n",
    "    Create an array for each doc's term frequency and append it to `term_freq`.\n",
    "    \"\"\"\n",
    "\n",
    "    for sentence in corpus:\n",
    "        words = sentence.split()\n",
    "        sub_freq = []\n",
    "        for word in bag_of_words:\n",
    "            freq = words.count(word)\n",
    "            sub_freq.append(freq)\n",
    "        term_freq.append(sub_freq)       \n",
    "    \n",
    "    \n",
    "    # Now return your output as an object\n",
    "    return {\n",
    "        \"bag_of_words\": bag_of_words,\n",
    "        \"term_freq\": term_freq\n",
    "    }\n"
   ]
  },
  {
   "cell_type": "markdown",
   "metadata": {},
   "source": [
    "Test your function without stop words. You should see the output like below:\n",
    "\n",
    "```{'bag_of_words': ['ironhack', 'is', 'cool', 'i', 'love', 'am', 'a', 'student', 'at'], 'term_freq': [[1, 1, 1, 0, 0, 0, 0, 0, 0], [1, 0, 0, 1, 1, 0, 0, 0, 0], [1, 0, 0, 1, 0, 1, 1, 1, 1]]}```"
   ]
  },
  {
   "cell_type": "code",
   "execution_count": 32,
   "metadata": {},
   "outputs": [
    {
     "name": "stdout",
     "output_type": "stream",
     "text": [
      "{'bag_of_words': ['ironhack', 'is', 'cool', 'i', 'love', 'am', 'a', 'student', 'at'], 'term_freq': [[1, 1, 1, 0, 0, 0, 0, 0, 0], [1, 0, 0, 1, 1, 0, 0, 0, 0], [1, 0, 0, 1, 0, 1, 1, 1, 1]]}\n"
     ]
    }
   ],
   "source": [
    "# Define doc paths array\n",
    "docs = ['C:/Users/Admin/data-ber-03-20/Labs/module-1_labs/01_python/03_lab-string-operations/your-code/doc1.txt', 'C:/Users/Admin/data-ber-03-20/Labs/module-1_labs/01_python/03_lab-string-operations/your-code/doc2.txt', 'C:/Users/Admin/data-ber-03-20/Labs/module-1_labs/01_python/03_lab-string-operations/your-code/doc3.txt']\n",
    "\n",
    "# Obtain BoW from your function\n",
    "bow = get_bow_from_docs(docs)\n",
    "\n",
    "# Print BoW\n",
    "print(bow)"
   ]
  },
  {
   "cell_type": "markdown",
   "metadata": {},
   "source": [
    "If your attempt above is successful, nice work done!\n",
    "\n",
    "Now test your function again with the stop words. In the previous lab we defined the stop words in a large array. In this lab, we'll import the stop words from Scikit-Learn."
   ]
  },
  {
   "cell_type": "code",
   "execution_count": 24,
   "metadata": {},
   "outputs": [
    {
     "name": "stdout",
     "output_type": "stream",
     "text": [
      "frozenset({'twelve', 'nevertheless', 'them', 'those', 'who', 'or', 'thence', 'hence', 'are', 'indeed', 'other', 'everything', 'it', 'none', 'must', 'more', 'your', 'although', 'but', 'sixty', 'cannot', 'all', 'whom', 'due', 'hereafter', 'empty', 'somewhere', 'within', 'has', 'done', 'seems', 'to', 'sometimes', 'both', 'seeming', 'beside', 'in', 'out', 'seemed', 'throughout', 'forty', 'will', 'an', 'over', 'how', 'been', 'his', 'whereby', 'elsewhere', 'up', 'for', 'others', 'along', 'do', 'again', 'describe', 'ourselves', 'may', 'might', 'without', 'against', 'full', 'am', 'some', 'i', 'afterwards', 'put', 'amongst', 'even', 'most', 'eight', 'which', 'onto', 'though', 'thick', 'when', 'well', 'fire', 'being', 'thus', 'mill', 'etc', 'latter', 'around', 'six', 'while', 'everywhere', 'ever', 'whatever', 'they', 'have', 'found', 'five', 'toward', 'former', 'own', 'were', 'could', 'thereupon', 'otherwise', 'mostly', 'whoever', 'my', 'perhaps', 'herself', 'that', 'until', 'became', 'himself', 'top', 'many', 'next', 'detail', 'whose', 'what', 'twenty', 'show', 'keep', 'therefore', 'cry', 'no', 'namely', 'front', 'should', 'become', 'wherever', 'third', 'mine', 'nobody', 'upon', 'find', 'its', 'side', 'below', 'myself', 'off', 'de', 'not', 'because', 'and', 'can', 'two', 'whole', 'also', 'thereafter', 'herein', 'ten', 'nor', 'something', 'except', 'made', 'so', 'move', 'besides', 'during', 'through', 'is', 'un', 'hundred', 'a', 'had', 'somehow', 'on', 'much', 'yourself', 'serious', 'if', 'us', 'me', 'name', 'yourselves', 'here', 'nine', 'eg', 'hereby', 'one', 'be', 'please', 'fill', 'towards', 'thru', 'once', 'see', 'these', 'part', 'as', 'hasnt', 'beforehand', 'someone', 'less', 'behind', 'very', 'whenever', 'least', 'together', 'fifty', 'beyond', 'whereas', 'whence', 'after', 'cant', 'system', 'take', 'go', 'sincere', 'latterly', 'whereafter', 'him', 'would', 'interest', 'meanwhile', 'everyone', 'she', 'before', 're', 'into', 'back', 'whereupon', 'last', 'yours', 'anyone', 'seem', 'ours', 'becoming', 'at', 'amount', 'almost', 'themselves', 'whither', 'such', 'further', 'else', 'between', 'anything', 'where', 'since', 'sometime', 'four', 'anywhere', 'yet', 'above', 'their', 'moreover', 'call', 'enough', 'there', 'every', 'thereby', 'whether', 'nothing', 'he', 'of', 'only', 'with', 'than', 'either', 'you', 'hers', 'was', 'another', 'anyway', 'same', 'alone', 'inc', 'via', 'noone', 'amoungst', 'ltd', 'from', 'nowhere', 'eleven', 'always', 'several', 'rather', 'about', 'hereupon', 'however', 'itself', 'ie', 'per', 'why', 'too', 'across', 'this', 'bill', 'down', 'wherein', 'by', 'each', 'therein', 'fifteen', 'thin', 'formerly', 'the', 'already', 'anyhow', 'bottom', 'then', 'couldnt', 'three', 'any', 'neither', 'still', 'co', 'among', 'con', 'few', 'under', 'becomes', 'get', 'first', 'give', 'now', 'we', 'her', 'often', 'never', 'our'})\n"
     ]
    }
   ],
   "source": [
    "from sklearn.feature_extraction import stop_words\n",
    "print(stop_words.ENGLISH_STOP_WORDS)"
   ]
  },
  {
   "cell_type": "markdown",
   "metadata": {},
   "source": [
    "You should have seen a large list of words that looks like:\n",
    "\n",
    "```frozenset({'across', 'mine', 'cannot', ...})```\n",
    "\n",
    "`frozenset` is a type of Python object that is immutable. In this lab you can use it just like an array without conversion."
   ]
  },
  {
   "cell_type": "markdown",
   "metadata": {},
   "source": [
    "Next, test your function with supplying `stop_words.ENGLISH_STOP_WORDS` as the second parameter."
   ]
  },
  {
   "cell_type": "code",
   "execution_count": 26,
   "metadata": {},
   "outputs": [
    {
     "name": "stdout",
     "output_type": "stream",
     "text": [
      "{'bag_of_words': ['ironhack', 'cool', 'love', 'student'], 'term_freq': [[1, 1, 0, 0], [1, 0, 1, 0], [1, 0, 0, 1]]}\n"
     ]
    }
   ],
   "source": [
    "bow2 = get_bow_from_docs(docs, stop_words.ENGLISH_STOP_WORDS)\n",
    "\n",
    "print(bow2)"
   ]
  },
  {
   "cell_type": "markdown",
   "metadata": {},
   "source": [
    "You should have seen:\n",
    "\n",
    "```{'bag_of_words': ['ironhack', 'cool', 'love', 'student'], 'term_freq': [[1, 1, 0, 0], [1, 0, 1, 0], [1, 0, 0, 1]]}```"
   ]
  },
  {
   "cell_type": "code",
   "execution_count": null,
   "metadata": {},
   "outputs": [],
   "source": []
  }
 ],
 "metadata": {
  "kernelspec": {
   "display_name": "Python 3",
   "language": "python",
   "name": "python3"
  },
  "language_info": {
   "codemirror_mode": {
    "name": "ipython",
    "version": 3
   },
   "file_extension": ".py",
   "mimetype": "text/x-python",
   "name": "python",
   "nbconvert_exporter": "python",
   "pygments_lexer": "ipython3",
   "version": "3.7.6"
  }
 },
 "nbformat": 4,
 "nbformat_minor": 4
}
