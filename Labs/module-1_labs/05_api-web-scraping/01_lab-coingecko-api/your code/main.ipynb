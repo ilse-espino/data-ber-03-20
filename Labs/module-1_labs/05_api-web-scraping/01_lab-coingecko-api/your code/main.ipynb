{
 "cells": [
  {
   "cell_type": "markdown",
   "metadata": {},
   "source": [
    "##  Imports"
   ]
  },
  {
   "cell_type": "code",
   "execution_count": 42,
   "metadata": {},
   "outputs": [],
   "source": [
    "import pandas as pd\n",
    "import requests\n",
    "import json\n",
    "import matplotlib\n",
    "import matplotlib.pyplot as plt\n",
    "%matplotlib inline"
   ]
  },
  {
   "cell_type": "markdown",
   "metadata": {},
   "source": [
    "# Bitcoin market value for last 30 days, vs. USD, deliver a DF and a Plot"
   ]
  },
  {
   "cell_type": "code",
   "execution_count": 43,
   "metadata": {},
   "outputs": [
    {
     "data": {
      "text/html": [
       "<div>\n",
       "<style scoped>\n",
       "    .dataframe tbody tr th:only-of-type {\n",
       "        vertical-align: middle;\n",
       "    }\n",
       "\n",
       "    .dataframe tbody tr th {\n",
       "        vertical-align: top;\n",
       "    }\n",
       "\n",
       "    .dataframe thead th {\n",
       "        text-align: right;\n",
       "    }\n",
       "</style>\n",
       "<table border=\"1\" class=\"dataframe\">\n",
       "  <thead>\n",
       "    <tr style=\"text-align: right;\">\n",
       "      <th></th>\n",
       "      <th>price</th>\n",
       "    </tr>\n",
       "    <tr>\n",
       "      <th>time</th>\n",
       "      <th></th>\n",
       "    </tr>\n",
       "  </thead>\n",
       "  <tbody>\n",
       "    <tr>\n",
       "      <th>2020-03-08 15:02:56.391</th>\n",
       "      <td>8611.711647</td>\n",
       "    </tr>\n",
       "    <tr>\n",
       "      <th>2020-03-08 16:05:33.211</th>\n",
       "      <td>8395.577860</td>\n",
       "    </tr>\n",
       "    <tr>\n",
       "      <th>2020-03-08 17:02:52.401</th>\n",
       "      <td>8348.131799</td>\n",
       "    </tr>\n",
       "    <tr>\n",
       "      <th>2020-03-08 18:05:39.270</th>\n",
       "      <td>8350.322705</td>\n",
       "    </tr>\n",
       "    <tr>\n",
       "      <th>2020-03-08 19:04:16.049</th>\n",
       "      <td>8302.136340</td>\n",
       "    </tr>\n",
       "    <tr>\n",
       "      <th>2020-03-08 20:02:50.200</th>\n",
       "      <td>8323.456668</td>\n",
       "    </tr>\n",
       "    <tr>\n",
       "      <th>2020-03-08 21:05:34.132</th>\n",
       "      <td>8292.962991</td>\n",
       "    </tr>\n",
       "    <tr>\n",
       "      <th>2020-03-08 22:04:09.782</th>\n",
       "      <td>8224.685957</td>\n",
       "    </tr>\n",
       "    <tr>\n",
       "      <th>2020-03-08 23:02:43.835</th>\n",
       "      <td>8223.540581</td>\n",
       "    </tr>\n",
       "    <tr>\n",
       "      <th>2020-03-09 00:07:34.315</th>\n",
       "      <td>8050.873454</td>\n",
       "    </tr>\n",
       "  </tbody>\n",
       "</table>\n",
       "</div>"
      ],
      "text/plain": [
       "                               price\n",
       "time                                \n",
       "2020-03-08 15:02:56.391  8611.711647\n",
       "2020-03-08 16:05:33.211  8395.577860\n",
       "2020-03-08 17:02:52.401  8348.131799\n",
       "2020-03-08 18:05:39.270  8350.322705\n",
       "2020-03-08 19:04:16.049  8302.136340\n",
       "2020-03-08 20:02:50.200  8323.456668\n",
       "2020-03-08 21:05:34.132  8292.962991\n",
       "2020-03-08 22:04:09.782  8224.685957\n",
       "2020-03-08 23:02:43.835  8223.540581\n",
       "2020-03-09 00:07:34.315  8050.873454"
      ]
     },
     "execution_count": 43,
     "metadata": {},
     "output_type": "execute_result"
    }
   ],
   "source": [
    "base = 'https://api.coingecko.com/api/v3/'\n",
    "\n",
    "url = base + 'coins/bitcoin/market_chart?vs_currency=usd&days=30'\n",
    "\n",
    "result = requests.get(url)\n",
    "j_bc = result.json()\n",
    "\n",
    "df_bc = pd.DataFrame(j_bc['prices'], columns=['time', 'price'])\n",
    "df_bc['time'] = pd.to_datetime(df_bc['time'], unit='ms')\n",
    "df_bc.set_index('time', inplace=True)\n",
    "df_bc.head(10)"
   ]
  },
  {
   "cell_type": "code",
   "execution_count": 44,
   "metadata": {},
   "outputs": [
    {
     "data": {
      "text/plain": [
       "<matplotlib.axes._subplots.AxesSubplot at 0x2605c3ca988>"
      ]
     },
     "execution_count": 44,
     "metadata": {},
     "output_type": "execute_result"
    },
    {
     "data": {
      "image/png": "[encoded data removed]",
      "text/plain": [
       "<Figure size 432x288 with 1 Axes>"
      ]
     },
     "metadata": {
      "needs_background": "light"
     },
     "output_type": "display_data"
    }
   ],
   "source": [
    "df_bc.plot()"
   ]
  },
  {
   "cell_type": "markdown",
   "metadata": {},
   "source": [
    "# Litecoin market value for last 30 days, vs. USD, deliver a DF and a Plot"
   ]
  },
  {
   "cell_type": "code",
   "execution_count": 45,
   "metadata": {},
   "outputs": [
    {
     "data": {
      "text/html": [
       "<div>\n",
       "<style scoped>\n",
       "    .dataframe tbody tr th:only-of-type {\n",
       "        vertical-align: middle;\n",
       "    }\n",
       "\n",
       "    .dataframe tbody tr th {\n",
       "        vertical-align: top;\n",
       "    }\n",
       "\n",
       "    .dataframe thead th {\n",
       "        text-align: right;\n",
       "    }\n",
       "</style>\n",
       "<table border=\"1\" class=\"dataframe\">\n",
       "  <thead>\n",
       "    <tr style=\"text-align: right;\">\n",
       "      <th></th>\n",
       "      <th>price</th>\n",
       "    </tr>\n",
       "    <tr>\n",
       "      <th>time</th>\n",
       "      <th></th>\n",
       "    </tr>\n",
       "  </thead>\n",
       "  <tbody>\n",
       "    <tr>\n",
       "      <th>2020-03-08 15:03:58.308</th>\n",
       "      <td>56.704186</td>\n",
       "    </tr>\n",
       "    <tr>\n",
       "      <th>2020-03-08 16:05:45.043</th>\n",
       "      <td>53.762934</td>\n",
       "    </tr>\n",
       "    <tr>\n",
       "      <th>2020-03-08 17:04:02.314</th>\n",
       "      <td>52.845111</td>\n",
       "    </tr>\n",
       "    <tr>\n",
       "      <th>2020-03-08 18:04:10.010</th>\n",
       "      <td>54.228646</td>\n",
       "    </tr>\n",
       "    <tr>\n",
       "      <th>2020-03-08 19:04:23.854</th>\n",
       "      <td>53.781091</td>\n",
       "    </tr>\n",
       "    <tr>\n",
       "      <th>2020-03-08 20:04:24.401</th>\n",
       "      <td>53.537096</td>\n",
       "    </tr>\n",
       "    <tr>\n",
       "      <th>2020-03-08 21:03:13.496</th>\n",
       "      <td>53.186279</td>\n",
       "    </tr>\n",
       "    <tr>\n",
       "      <th>2020-03-08 22:07:19.301</th>\n",
       "      <td>52.340470</td>\n",
       "    </tr>\n",
       "    <tr>\n",
       "      <th>2020-03-08 23:04:46.973</th>\n",
       "      <td>52.160226</td>\n",
       "    </tr>\n",
       "    <tr>\n",
       "      <th>2020-03-09 00:02:26.807</th>\n",
       "      <td>51.213938</td>\n",
       "    </tr>\n",
       "  </tbody>\n",
       "</table>\n",
       "</div>"
      ],
      "text/plain": [
       "                             price\n",
       "time                              \n",
       "2020-03-08 15:03:58.308  56.704186\n",
       "2020-03-08 16:05:45.043  53.762934\n",
       "2020-03-08 17:04:02.314  52.845111\n",
       "2020-03-08 18:04:10.010  54.228646\n",
       "2020-03-08 19:04:23.854  53.781091\n",
       "2020-03-08 20:04:24.401  53.537096\n",
       "2020-03-08 21:03:13.496  53.186279\n",
       "2020-03-08 22:07:19.301  52.340470\n",
       "2020-03-08 23:04:46.973  52.160226\n",
       "2020-03-09 00:02:26.807  51.213938"
      ]
     },
     "execution_count": 45,
     "metadata": {},
     "output_type": "execute_result"
    }
   ],
   "source": [
    "base = 'https://api.coingecko.com/api/v3/'\n",
    "\n",
    "url = base + 'coins/litecoin/market_chart?vs_currency=usd&days=30'\n",
    "\n",
    "result = requests.get(url)\n",
    "j_lc = result.json()\n",
    "\n",
    "df_lc = pd.DataFrame(j_lc['prices'], columns=['time', 'price'])\n",
    "df_lc['time'] = pd.to_datetime(df_lc['time'], unit='ms')\n",
    "df_lc.set_index('time', inplace=True)\n",
    "df_lc.head(10)"
   ]
  },
  {
   "cell_type": "code",
   "execution_count": 46,
   "metadata": {},
   "outputs": [
    {
     "data": {
      "text/plain": [
       "<matplotlib.axes._subplots.AxesSubplot at 0x2605c42a648>"
      ]
     },
     "execution_count": 46,
     "metadata": {},
     "output_type": "execute_result"
    },
    {
     "data": {
      "image/png": "[encoded data removed]",
      "text/plain": [
       "<Figure size 432x288 with 1 Axes>"
      ]
     },
     "metadata": {
      "needs_background": "light"
     },
     "output_type": "display_data"
    }
   ],
   "source": [
    "df_lc.plot()"
   ]
  },
  {
   "cell_type": "markdown",
   "metadata": {},
   "source": [
    "## Plot Litecoin and Dogecoin prices in a lineplot for each"
   ]
  },
  {
   "cell_type": "code",
   "execution_count": 47,
   "metadata": {},
   "outputs": [
    {
     "data": {
      "text/html": [
       "<div>\n",
       "<style scoped>\n",
       "    .dataframe tbody tr th:only-of-type {\n",
       "        vertical-align: middle;\n",
       "    }\n",
       "\n",
       "    .dataframe tbody tr th {\n",
       "        vertical-align: top;\n",
       "    }\n",
       "\n",
       "    .dataframe thead th {\n",
       "        text-align: right;\n",
       "    }\n",
       "</style>\n",
       "<table border=\"1\" class=\"dataframe\">\n",
       "  <thead>\n",
       "    <tr style=\"text-align: right;\">\n",
       "      <th></th>\n",
       "      <th>price</th>\n",
       "    </tr>\n",
       "    <tr>\n",
       "      <th>time</th>\n",
       "      <th></th>\n",
       "    </tr>\n",
       "  </thead>\n",
       "  <tbody>\n",
       "    <tr>\n",
       "      <th>2020-03-08 15:07:46.582</th>\n",
       "      <td>0.002340</td>\n",
       "    </tr>\n",
       "    <tr>\n",
       "      <th>2020-03-08 16:05:21.533</th>\n",
       "      <td>0.002266</td>\n",
       "    </tr>\n",
       "    <tr>\n",
       "      <th>2020-03-08 17:05:55.571</th>\n",
       "      <td>0.002242</td>\n",
       "    </tr>\n",
       "    <tr>\n",
       "      <th>2020-03-08 18:07:44.422</th>\n",
       "      <td>0.002248</td>\n",
       "    </tr>\n",
       "    <tr>\n",
       "      <th>2020-03-08 19:07:24.668</th>\n",
       "      <td>0.002237</td>\n",
       "    </tr>\n",
       "    <tr>\n",
       "      <th>2020-03-08 20:07:33.250</th>\n",
       "      <td>0.002236</td>\n",
       "    </tr>\n",
       "    <tr>\n",
       "      <th>2020-03-08 21:07:35.091</th>\n",
       "      <td>0.002236</td>\n",
       "    </tr>\n",
       "    <tr>\n",
       "      <th>2020-03-08 22:05:42.097</th>\n",
       "      <td>0.002233</td>\n",
       "    </tr>\n",
       "    <tr>\n",
       "      <th>2020-03-08 23:07:37.570</th>\n",
       "      <td>0.002206</td>\n",
       "    </tr>\n",
       "    <tr>\n",
       "      <th>2020-03-09 00:04:50.317</th>\n",
       "      <td>0.002174</td>\n",
       "    </tr>\n",
       "  </tbody>\n",
       "</table>\n",
       "</div>"
      ],
      "text/plain": [
       "                            price\n",
       "time                             \n",
       "2020-03-08 15:07:46.582  0.002340\n",
       "2020-03-08 16:05:21.533  0.002266\n",
       "2020-03-08 17:05:55.571  0.002242\n",
       "2020-03-08 18:07:44.422  0.002248\n",
       "2020-03-08 19:07:24.668  0.002237\n",
       "2020-03-08 20:07:33.250  0.002236\n",
       "2020-03-08 21:07:35.091  0.002236\n",
       "2020-03-08 22:05:42.097  0.002233\n",
       "2020-03-08 23:07:37.570  0.002206\n",
       "2020-03-09 00:04:50.317  0.002174"
      ]
     },
     "execution_count": 47,
     "metadata": {},
     "output_type": "execute_result"
    }
   ],
   "source": [
    "#doge coin\n",
    "\n",
    "url = base + 'coins/dogecoin/market_chart'\n",
    "param_dict = { 'id':'dogecoin', 'vs_currency':'usd', 'days':30}\n",
    "result = requests.get(url, params=param_dict)\n",
    "j_dc = result.json()\n",
    "df_dc = pd.DataFrame(j_dc['prices'], columns=['time', 'price'])\n",
    "df_dc['time'] = pd.to_datetime(df_dc['time'], unit='ms')\n",
    "df_dc.set_index('time', inplace=True)\n",
    "df_dc.head(10)"
   ]
  },
  {
   "cell_type": "code",
   "execution_count": 48,
   "metadata": {},
   "outputs": [
    {
     "data": {
      "text/plain": [
       "Text(0.5, 1.0, 'Dogecoin')"
      ]
     },
     "execution_count": 48,
     "metadata": {},
     "output_type": "execute_result"
    },
    {
     "data": {
      "image/png": "[encoded data removed]",
      "text/plain": [
       "<Figure size 864x576 with 2 Axes>"
      ]
     },
     "metadata": {
      "needs_background": "light"
     },
     "output_type": "display_data"
    }
   ],
   "source": [
    "fig, axes = plt.subplots(1,2, figsize=(12,8))\n",
    "axes[0].plot(df_lc)\n",
    "axes[1].plot(df_dc)\n",
    "\n",
    "axes[0].set_xlabel(\"Time\")\n",
    "axes[0].set_ylabel(\"Price\")\n",
    "axes[0].set_title(\"Litecoin\")\n",
    "\n",
    "axes[1].set_xlabel(\"Time\")\n",
    "axes[1].set_ylabel(\"Price\")\n",
    "axes[1].set_title(\"Dogecoin\")"
   ]
  },
  {
   "cell_type": "markdown",
   "metadata": {},
   "source": [
    "# Top Ten Coins Report"
   ]
  },
  {
   "cell_type": "markdown",
   "metadata": {},
   "source": [
    "## List the first 10 coingecko currencies in a DataFrame"
   ]
  },
  {
   "cell_type": "code",
   "execution_count": 49,
   "metadata": {},
   "outputs": [
    {
     "data": {
      "text/html": [
       "<div>\n",
       "<style scoped>\n",
       "    .dataframe tbody tr th:only-of-type {\n",
       "        vertical-align: middle;\n",
       "    }\n",
       "\n",
       "    .dataframe tbody tr th {\n",
       "        vertical-align: top;\n",
       "    }\n",
       "\n",
       "    .dataframe thead th {\n",
       "        text-align: right;\n",
       "    }\n",
       "</style>\n",
       "<table border=\"1\" class=\"dataframe\">\n",
       "  <thead>\n",
       "    <tr style=\"text-align: right;\">\n",
       "      <th></th>\n",
       "      <th>id</th>\n",
       "      <th>symbol</th>\n",
       "      <th>name</th>\n",
       "    </tr>\n",
       "  </thead>\n",
       "  <tbody>\n",
       "    <tr>\n",
       "      <th>0</th>\n",
       "      <td>01coin</td>\n",
       "      <td>zoc</td>\n",
       "      <td>01coin</td>\n",
       "    </tr>\n",
       "    <tr>\n",
       "      <th>1</th>\n",
       "      <td>02-token</td>\n",
       "      <td>o2t</td>\n",
       "      <td>O2 Token</td>\n",
       "    </tr>\n",
       "    <tr>\n",
       "      <th>2</th>\n",
       "      <td>0cash</td>\n",
       "      <td>zch</td>\n",
       "      <td>0cash</td>\n",
       "    </tr>\n",
       "    <tr>\n",
       "      <th>3</th>\n",
       "      <td>0chain</td>\n",
       "      <td>zcn</td>\n",
       "      <td>0chain</td>\n",
       "    </tr>\n",
       "    <tr>\n",
       "      <th>4</th>\n",
       "      <td>0x</td>\n",
       "      <td>zrx</td>\n",
       "      <td>0x</td>\n",
       "    </tr>\n",
       "    <tr>\n",
       "      <th>5</th>\n",
       "      <td>0xcert</td>\n",
       "      <td>zxc</td>\n",
       "      <td>0xcert</td>\n",
       "    </tr>\n",
       "    <tr>\n",
       "      <th>6</th>\n",
       "      <td>0xdark</td>\n",
       "      <td>oxd</td>\n",
       "      <td>0xDark</td>\n",
       "    </tr>\n",
       "    <tr>\n",
       "      <th>7</th>\n",
       "      <td>0xeth-cash</td>\n",
       "      <td>0xech</td>\n",
       "      <td>0xETH Cash</td>\n",
       "    </tr>\n",
       "    <tr>\n",
       "      <th>8</th>\n",
       "      <td>0xeth-classic</td>\n",
       "      <td>0xetc</td>\n",
       "      <td>0xETH Classic</td>\n",
       "    </tr>\n",
       "    <tr>\n",
       "      <th>9</th>\n",
       "      <td>0xethereum-token</td>\n",
       "      <td>0xeth</td>\n",
       "      <td>0xEthereum Token</td>\n",
       "    </tr>\n",
       "  </tbody>\n",
       "</table>\n",
       "</div>"
      ],
      "text/plain": [
       "                 id symbol              name\n",
       "0            01coin    zoc            01coin\n",
       "1          02-token    o2t          O2 Token\n",
       "2             0cash    zch             0cash\n",
       "3            0chain    zcn            0chain\n",
       "4                0x    zrx                0x\n",
       "5            0xcert    zxc            0xcert\n",
       "6            0xdark    oxd            0xDark\n",
       "7        0xeth-cash  0xech        0xETH Cash\n",
       "8     0xeth-classic  0xetc     0xETH Classic\n",
       "9  0xethereum-token  0xeth  0xEthereum Token"
      ]
     },
     "execution_count": 49,
     "metadata": {},
     "output_type": "execute_result"
    }
   ],
   "source": [
    "url = base + 'coins/list'\n",
    "result = requests.get(url)\n",
    "j = result.json()\n",
    "\n",
    "df_list = pd.DataFrame(j)\n",
    "df_list.head(10)"
   ]
  },
  {
   "cell_type": "code",
   "execution_count": 50,
   "metadata": {},
   "outputs": [
    {
     "data": {
      "text/plain": [
       "0              01coin\n",
       "1            02-token\n",
       "2               0cash\n",
       "3              0chain\n",
       "4                  0x\n",
       "5              0xcert\n",
       "6              0xdark\n",
       "7          0xeth-cash\n",
       "8       0xeth-classic\n",
       "9    0xethereum-token\n",
       "Name: id, dtype: object"
      ]
     },
     "execution_count": 50,
     "metadata": {},
     "output_type": "execute_result"
    }
   ],
   "source": [
    "data_df = df_list.iloc[:10, 0]\n",
    "data_df"
   ]
  },
  {
   "cell_type": "code",
   "execution_count": 39,
   "metadata": {},
   "outputs": [],
   "source": [
    "# url = \"http://api.coingecko.com/api/v3/coins/01coin/market_chart?vs_currency=usd&days=300\"\n",
    "# result = requests.get(url)\n",
    "# data = result.json()\n",
    "# data_df = pd.DataFrame(data['prices'], columns = ['date_time','price'])\n",
    "# data_df[\"file_name\"] = \"01coin\"\n",
    "# lst = []\n",
    "# lst.append(data_df)\n",
    "# lst"
   ]
  },
  {
   "cell_type": "code",
   "execution_count": 51,
   "metadata": {},
   "outputs": [
    {
     "data": {
      "text/html": [
       "<div>\n",
       "<style scoped>\n",
       "    .dataframe tbody tr th:only-of-type {\n",
       "        vertical-align: middle;\n",
       "    }\n",
       "\n",
       "    .dataframe tbody tr th {\n",
       "        vertical-align: top;\n",
       "    }\n",
       "\n",
       "    .dataframe thead th {\n",
       "        text-align: right;\n",
       "    }\n",
       "</style>\n",
       "<table border=\"1\" class=\"dataframe\">\n",
       "  <thead>\n",
       "    <tr style=\"text-align: right;\">\n",
       "      <th></th>\n",
       "      <th>date_time</th>\n",
       "      <th>price</th>\n",
       "      <th>file_name</th>\n",
       "    </tr>\n",
       "  </thead>\n",
       "  <tbody>\n",
       "    <tr>\n",
       "      <th>0</th>\n",
       "      <td>1560384000000</td>\n",
       "      <td>3.477176e-03</td>\n",
       "      <td>01coin</td>\n",
       "    </tr>\n",
       "    <tr>\n",
       "      <th>1</th>\n",
       "      <td>1560470400000</td>\n",
       "      <td>3.394577e-03</td>\n",
       "      <td>01coin</td>\n",
       "    </tr>\n",
       "    <tr>\n",
       "      <th>2</th>\n",
       "      <td>1560556800000</td>\n",
       "      <td>3.896259e-03</td>\n",
       "      <td>01coin</td>\n",
       "    </tr>\n",
       "    <tr>\n",
       "      <th>3</th>\n",
       "      <td>1560643200000</td>\n",
       "      <td>3.512342e-03</td>\n",
       "      <td>01coin</td>\n",
       "    </tr>\n",
       "    <tr>\n",
       "      <th>4</th>\n",
       "      <td>1560729600000</td>\n",
       "      <td>3.379261e-03</td>\n",
       "      <td>01coin</td>\n",
       "    </tr>\n",
       "    <tr>\n",
       "      <th>...</th>\n",
       "      <td>...</td>\n",
       "      <td>...</td>\n",
       "      <td>...</td>\n",
       "    </tr>\n",
       "    <tr>\n",
       "      <th>11</th>\n",
       "      <td>1584489600000</td>\n",
       "      <td>8.489999e-13</td>\n",
       "      <td>0xethereum-token</td>\n",
       "    </tr>\n",
       "    <tr>\n",
       "      <th>12</th>\n",
       "      <td>1584576000000</td>\n",
       "      <td>8.397907e-13</td>\n",
       "      <td>0xethereum-token</td>\n",
       "    </tr>\n",
       "    <tr>\n",
       "      <th>13</th>\n",
       "      <td>1585008000000</td>\n",
       "      <td>8.397907e-13</td>\n",
       "      <td>0xethereum-token</td>\n",
       "    </tr>\n",
       "    <tr>\n",
       "      <th>14</th>\n",
       "      <td>1585440000000</td>\n",
       "      <td>8.397907e-13</td>\n",
       "      <td>0xethereum-token</td>\n",
       "    </tr>\n",
       "    <tr>\n",
       "      <th>15</th>\n",
       "      <td>1585403588000</td>\n",
       "      <td>8.397907e-13</td>\n",
       "      <td>0xethereum-token</td>\n",
       "    </tr>\n",
       "  </tbody>\n",
       "</table>\n",
       "<p>1627 rows × 3 columns</p>\n",
       "</div>"
      ],
      "text/plain": [
       "        date_time         price         file_name\n",
       "0   1560384000000  3.477176e-03            01coin\n",
       "1   1560470400000  3.394577e-03            01coin\n",
       "2   1560556800000  3.896259e-03            01coin\n",
       "3   1560643200000  3.512342e-03            01coin\n",
       "4   1560729600000  3.379261e-03            01coin\n",
       "..            ...           ...               ...\n",
       "11  1584489600000  8.489999e-13  0xethereum-token\n",
       "12  1584576000000  8.397907e-13  0xethereum-token\n",
       "13  1585008000000  8.397907e-13  0xethereum-token\n",
       "14  1585440000000  8.397907e-13  0xethereum-token\n",
       "15  1585403588000  8.397907e-13  0xethereum-token\n",
       "\n",
       "[1627 rows x 3 columns]"
      ]
     },
     "execution_count": 51,
     "metadata": {},
     "output_type": "execute_result"
    }
   ],
   "source": [
    "data_list = []\n",
    "\n",
    "for i in data_df:\n",
    "    base = \"http://api.coingecko.com/api/v3/coins/\"\n",
    "    url = base + i + \"/market_chart?vs_currency=usd&days=300\"\n",
    "    result = requests.get(url)\n",
    "    data = result.json()\n",
    "    data_df = pd.DataFrame(data['prices'], columns = ['date_time','price'])\n",
    "    data_df[\"file_name\"] = i\n",
    "    data_list.append(data_df)\n",
    "\n",
    "data_report = pd.concat(data_list)\n",
    "data_report"
   ]
  },
  {
   "cell_type": "markdown",
   "metadata": {},
   "source": [
    "## Make a csv called 'top_ten_report.csv' and check that it worked"
   ]
  },
  {
   "cell_type": "code",
   "execution_count": 54,
   "metadata": {},
   "outputs": [],
   "source": [
    "data_report.to_csv(\"top_ten_reports.csv\", index=False)"
   ]
  },
  {
   "cell_type": "code",
   "execution_count": null,
   "metadata": {},
   "outputs": [],
   "source": []
  }
 ],
 "metadata": {
  "kernelspec": {
   "display_name": "Python 3",
   "language": "python",
   "name": "python3"
  },
  "language_info": {
   "codemirror_mode": {
    "name": "ipython",
    "version": 3
   },
   "file_extension": ".py",
   "mimetype": "text/x-python",
   "name": "python",
   "nbconvert_exporter": "python",
   "pygments_lexer": "ipython3",
   "version": "3.7.6"
  }
 },
 "nbformat": 4,
 "nbformat_minor": 4
}
